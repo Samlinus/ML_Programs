{
 "cells": [
  {
   "cell_type": "markdown",
   "id": "599620ca-3d95-4b0f-abec-8a82d85a4d29",
   "metadata": {},
   "source": [
    "### Naive Real"
   ]
  },
  {
   "cell_type": "code",
   "execution_count": 1,
   "id": "f94473db-220f-4ae1-8729-300d37383306",
   "metadata": {},
   "outputs": [],
   "source": [
    "import pandas as pd\n",
    "import numpy as np"
   ]
  },
  {
   "cell_type": "code",
   "execution_count": 2,
   "id": "dc6c91c7-6ac4-4eba-879a-a61372235352",
   "metadata": {
    "scrolled": true
   },
   "outputs": [
    {
     "data": {
      "text/html": [
       "<div>\n",
       "<style scoped>\n",
       "    .dataframe tbody tr th:only-of-type {\n",
       "        vertical-align: middle;\n",
       "    }\n",
       "\n",
       "    .dataframe tbody tr th {\n",
       "        vertical-align: top;\n",
       "    }\n",
       "\n",
       "    .dataframe thead th {\n",
       "        text-align: right;\n",
       "    }\n",
       "</style>\n",
       "<table border=\"1\" class=\"dataframe\">\n",
       "  <thead>\n",
       "    <tr style=\"text-align: right;\">\n",
       "      <th></th>\n",
       "      <th>x1</th>\n",
       "      <th>x2</th>\n",
       "      <th>Label</th>\n",
       "    </tr>\n",
       "  </thead>\n",
       "  <tbody>\n",
       "    <tr>\n",
       "      <th>0</th>\n",
       "      <td>50</td>\n",
       "      <td>10</td>\n",
       "      <td>C1</td>\n",
       "    </tr>\n",
       "    <tr>\n",
       "      <th>1</th>\n",
       "      <td>45</td>\n",
       "      <td>25</td>\n",
       "      <td>C1</td>\n",
       "    </tr>\n",
       "    <tr>\n",
       "      <th>2</th>\n",
       "      <td>32</td>\n",
       "      <td>12</td>\n",
       "      <td>C1</td>\n",
       "    </tr>\n",
       "    <tr>\n",
       "      <th>3</th>\n",
       "      <td>33</td>\n",
       "      <td>4</td>\n",
       "      <td>C2</td>\n",
       "    </tr>\n",
       "    <tr>\n",
       "      <th>4</th>\n",
       "      <td>15</td>\n",
       "      <td>9</td>\n",
       "      <td>C2</td>\n",
       "    </tr>\n",
       "  </tbody>\n",
       "</table>\n",
       "</div>"
      ],
      "text/plain": [
       "   x1  x2 Label\n",
       "0  50  10    C1\n",
       "1  45  25    C1\n",
       "2  32  12    C1\n",
       "3  33   4    C2\n",
       "4  15   9    C2"
      ]
     },
     "execution_count": 2,
     "metadata": {},
     "output_type": "execute_result"
    }
   ],
   "source": [
    "X = pd.read_csv('Naive_Real_Training.csv')\n",
    "X.head()"
   ]
  },
  {
   "cell_type": "code",
   "execution_count": 13,
   "id": "89a7b069-0ec5-40cb-8f2d-7b648698fb18",
   "metadata": {},
   "outputs": [
    {
     "data": {
      "text/plain": [
       "17.987650084309387"
      ]
     },
     "execution_count": 13,
     "metadata": {},
     "output_type": "execute_result"
    }
   ],
   "source": [
    "X['x1'].std(ddof = 0) # Standared deviation..."
   ]
  },
  {
   "cell_type": "code",
   "execution_count": 3,
   "id": "232b4193-193f-48bf-9547-c69f206b3250",
   "metadata": {},
   "outputs": [],
   "source": [
    "Y = X.Label\n",
    "X.drop(columns = 'Label',inplace = True)"
   ]
  },
  {
   "cell_type": "code",
   "execution_count": 4,
   "id": "0d2cd5b5-4cb6-489b-ac17-2106c17587fa",
   "metadata": {},
   "outputs": [
    {
     "data": {
      "text/plain": [
       "0    C1\n",
       "1    C1\n",
       "2    C1\n",
       "3    C2\n",
       "4    C2\n",
       "5    C2\n",
       "Name: Label, dtype: object"
      ]
     },
     "execution_count": 4,
     "metadata": {},
     "output_type": "execute_result"
    }
   ],
   "source": [
    "Y"
   ]
  },
  {
   "cell_type": "code",
   "execution_count": 5,
   "id": "a072f635-7311-4dd6-931e-a8fc7f952602",
   "metadata": {},
   "outputs": [
    {
     "data": {
      "text/html": [
       "<div>\n",
       "<style scoped>\n",
       "    .dataframe tbody tr th:only-of-type {\n",
       "        vertical-align: middle;\n",
       "    }\n",
       "\n",
       "    .dataframe tbody tr th {\n",
       "        vertical-align: top;\n",
       "    }\n",
       "\n",
       "    .dataframe thead th {\n",
       "        text-align: right;\n",
       "    }\n",
       "</style>\n",
       "<table border=\"1\" class=\"dataframe\">\n",
       "  <thead>\n",
       "    <tr style=\"text-align: right;\">\n",
       "      <th></th>\n",
       "      <th>x1</th>\n",
       "      <th>x2</th>\n",
       "    </tr>\n",
       "  </thead>\n",
       "  <tbody>\n",
       "    <tr>\n",
       "      <th>0</th>\n",
       "      <td>45</td>\n",
       "      <td>2</td>\n",
       "    </tr>\n",
       "  </tbody>\n",
       "</table>\n",
       "</div>"
      ],
      "text/plain": [
       "   x1  x2\n",
       "0  45   2"
      ]
     },
     "execution_count": 5,
     "metadata": {},
     "output_type": "execute_result"
    }
   ],
   "source": [
    "Test_df = pd.read_csv('Naive_Real_Test.csv')\n",
    "Test_df"
   ]
  },
  {
   "cell_type": "code",
   "execution_count": 6,
   "id": "f1a01a63-5d61-4cb0-a0d3-a5ab49687355",
   "metadata": {},
   "outputs": [],
   "source": [
    "class NaiveBayesReal():\n",
    "    def fit(self, X: pd.DataFrame, Y: pd.Series):\n",
    "        self.X = X\n",
    "        self.Y = Y\n",
    "        self.setclassdict()\n",
    "        \n",
    "    def setclassdict(self):\n",
    "        self.class_arr = self.Y.unique()\n",
    "        self.class_prob_dict = {}\n",
    "        self.mean_dict = {}\n",
    "        \n",
    "        # Defining probability for each class\n",
    "        for key in self.class_arr:\n",
    "            \n",
    "            self.class_prob_dict[key] = len(self.Y[self.Y==key])/len(self.Y)\n",
    "            \n",
    "        print('Probability dict of each class...')\n",
    "        print(self.class_prob_dict)\n",
    "\n",
    "    def predict(self, Test: pd.DataFrame):\n",
    "        self.Test = Test\n",
    "        self.final_class = []\n",
    "        # k - k th datapoint...\n",
    "        for k in range(len(self.Test)):\n",
    "            self.prob_given_dp = {}\n",
    "            for key in self.class_arr:\n",
    "                self.prob_given_dp[key] = self.prob_dp_given_class(self.Test.iloc[k], key) * self.class_prob_dict[key]\n",
    "\n",
    "            self.final_class.append(max(self.prob_given_dp,key = self.class_prob_dict.get))\n",
    "\n",
    "        Test['Predicted'] = self.final_class\n",
    "        return Test\n",
    "\n",
    "    def prob_dp_given_class(self, Test_i: pd.Series, key: str):\n",
    "        prob = []\n",
    "        for i in range(len(Test_i)):\n",
    "            prob.append(self.density_fun(i, key,Test_i))\n",
    "\n",
    "        return np.prod(prob)\n",
    "\n",
    "    def density_fun(self, Test_col, key, Test_i):\n",
    "        # Matching the row index such that the corresponding elements can be accessed from self.X\n",
    "        x_list = []\n",
    "        for i in range(len(self.Y)):\n",
    "            if self.Y.iloc[i]==key:\n",
    "                x_list.append(self.X.iloc[i][Test_col])\n",
    "            \n",
    "        _mean = np.mean(x_list)\n",
    "        print('Mean...')\n",
    "        print(_mean)\n",
    "        _variance = np.sqrt(np.mean(np.square(x_list-_mean)))\n",
    "        print('Variance...')\n",
    "        print(_variance)\n",
    "        _norm = np.exp((((Test_i.iloc[Test_col] - _mean)/_variance)**2)/-2) / (np.sqrt(2*3.14)*_variance)\n",
    "        print('Norm...')\n",
    "        print(_norm)\n",
    "        return _norm"
   ]
  },
  {
   "cell_type": "code",
   "execution_count": 7,
   "id": "e57e2d49-1cf2-4e7c-88ca-9e9fbb6440c3",
   "metadata": {},
   "outputs": [
    {
     "name": "stdout",
     "output_type": "stream",
     "text": [
      "Probability dict of each class...\n",
      "{'C1': 0.5, 'C2': 0.5}\n"
     ]
    }
   ],
   "source": [
    "model = NaiveBayesReal()\n",
    "model.fit(X,Y)"
   ]
  },
  {
   "cell_type": "code",
   "execution_count": 8,
   "id": "a026cc01-73ea-48ce-a1c1-9332dad469e2",
   "metadata": {},
   "outputs": [
    {
     "name": "stdout",
     "output_type": "stream",
     "text": [
      "Mean...\n",
      "42.333333333333336\n",
      "Variance...\n",
      "7.586537784494029\n",
      "Norm...\n",
      "0.04944786560780813\n",
      "Mean...\n",
      "15.666666666666666\n",
      "Variance...\n",
      "6.649979114420001\n",
      "Norm...\n",
      "0.007261943767281636\n",
      "Mean...\n",
      "40.333333333333336\n",
      "Variance...\n",
      "24.239545283597124\n",
      "Norm...\n",
      "0.016160215043786147\n",
      "Mean...\n",
      "8.0\n",
      "Variance...\n",
      "2.943920288775949\n",
      "Norm...\n",
      "0.016986265183841553\n"
     ]
    },
    {
     "data": {
      "text/html": [
       "<div>\n",
       "<style scoped>\n",
       "    .dataframe tbody tr th:only-of-type {\n",
       "        vertical-align: middle;\n",
       "    }\n",
       "\n",
       "    .dataframe tbody tr th {\n",
       "        vertical-align: top;\n",
       "    }\n",
       "\n",
       "    .dataframe thead th {\n",
       "        text-align: right;\n",
       "    }\n",
       "</style>\n",
       "<table border=\"1\" class=\"dataframe\">\n",
       "  <thead>\n",
       "    <tr style=\"text-align: right;\">\n",
       "      <th></th>\n",
       "      <th>x1</th>\n",
       "      <th>x2</th>\n",
       "      <th>Predicted</th>\n",
       "    </tr>\n",
       "  </thead>\n",
       "  <tbody>\n",
       "    <tr>\n",
       "      <th>0</th>\n",
       "      <td>45</td>\n",
       "      <td>2</td>\n",
       "      <td>C1</td>\n",
       "    </tr>\n",
       "  </tbody>\n",
       "</table>\n",
       "</div>"
      ],
      "text/plain": [
       "   x1  x2 Predicted\n",
       "0  45   2        C1"
      ]
     },
     "execution_count": 8,
     "metadata": {},
     "output_type": "execute_result"
    }
   ],
   "source": [
    "model.predict(Test_df)"
   ]
  }
 ],
 "metadata": {
  "kernelspec": {
   "display_name": "Python 3 (ipykernel)",
   "language": "python",
   "name": "python3"
  },
  "language_info": {
   "codemirror_mode": {
    "name": "ipython",
    "version": 3
   },
   "file_extension": ".py",
   "mimetype": "text/x-python",
   "name": "python",
   "nbconvert_exporter": "python",
   "pygments_lexer": "ipython3",
   "version": "3.11.3"
  }
 },
 "nbformat": 4,
 "nbformat_minor": 5
}
