{
 "cells": [
  {
   "cell_type": "markdown",
   "id": "240b5fd7",
   "metadata": {},
   "source": [
    "### KNN Classification (Real)"
   ]
  },
  {
   "cell_type": "code",
   "execution_count": 10,
   "id": "64709450",
   "metadata": {},
   "outputs": [],
   "source": [
    "import pandas as pd\n",
    "import numpy as np"
   ]
  },
  {
   "cell_type": "markdown",
   "id": "0691af26",
   "metadata": {},
   "source": [
    "#####  Read Training Data"
   ]
  },
  {
   "cell_type": "code",
   "execution_count": 11,
   "id": "62d3f73e",
   "metadata": {},
   "outputs": [
    {
     "data": {
      "text/html": [
       "<div>\n",
       "<style scoped>\n",
       "    .dataframe tbody tr th:only-of-type {\n",
       "        vertical-align: middle;\n",
       "    }\n",
       "\n",
       "    .dataframe tbody tr th {\n",
       "        vertical-align: top;\n",
       "    }\n",
       "\n",
       "    .dataframe thead th {\n",
       "        text-align: right;\n",
       "    }\n",
       "</style>\n",
       "<table border=\"1\" class=\"dataframe\">\n",
       "  <thead>\n",
       "    <tr style=\"text-align: right;\">\n",
       "      <th></th>\n",
       "      <th>F1</th>\n",
       "      <th>F2</th>\n",
       "      <th>F3</th>\n",
       "      <th>F4</th>\n",
       "      <th>Actual</th>\n",
       "    </tr>\n",
       "  </thead>\n",
       "  <tbody>\n",
       "    <tr>\n",
       "      <th>0</th>\n",
       "      <td>1.0</td>\n",
       "      <td>0.5</td>\n",
       "      <td>0.44</td>\n",
       "      <td>0.00</td>\n",
       "      <td>0.3</td>\n",
       "    </tr>\n",
       "    <tr>\n",
       "      <th>1</th>\n",
       "      <td>0.8</td>\n",
       "      <td>0.6</td>\n",
       "      <td>0.00</td>\n",
       "      <td>0.22</td>\n",
       "      <td>0.9</td>\n",
       "    </tr>\n",
       "    <tr>\n",
       "      <th>2</th>\n",
       "      <td>0.7</td>\n",
       "      <td>0.4</td>\n",
       "      <td>0.00</td>\n",
       "      <td>0.00</td>\n",
       "      <td>0.7</td>\n",
       "    </tr>\n",
       "    <tr>\n",
       "      <th>3</th>\n",
       "      <td>0.0</td>\n",
       "      <td>0.1</td>\n",
       "      <td>2.64</td>\n",
       "      <td>4.40</td>\n",
       "      <td>0.5</td>\n",
       "    </tr>\n",
       "    <tr>\n",
       "      <th>4</th>\n",
       "      <td>0.1</td>\n",
       "      <td>0.0</td>\n",
       "      <td>1.76</td>\n",
       "      <td>12.32</td>\n",
       "      <td>0.2</td>\n",
       "    </tr>\n",
       "  </tbody>\n",
       "</table>\n",
       "</div>"
      ],
      "text/plain": [
       "    F1   F2    F3     F4  Actual\n",
       "0  1.0  0.5  0.44   0.00     0.3\n",
       "1  0.8  0.6  0.00   0.22     0.9\n",
       "2  0.7  0.4  0.00   0.00     0.7\n",
       "3  0.0  0.1  2.64   4.40     0.5\n",
       "4  0.1  0.0  1.76  12.32     0.2"
      ]
     },
     "execution_count": 11,
     "metadata": {},
     "output_type": "execute_result"
    }
   ],
   "source": [
    "Training_df = pd.read_csv('KNN_Real.csv')\n",
    "Training_df"
   ]
  },
  {
   "cell_type": "markdown",
   "id": "f6ad52c2",
   "metadata": {},
   "source": [
    "##### Split Features and Target"
   ]
  },
  {
   "cell_type": "code",
   "execution_count": 12,
   "id": "19d430ce",
   "metadata": {},
   "outputs": [
    {
     "data": {
      "text/plain": [
       "(0    0.3\n",
       " 1    0.9\n",
       " 2    0.7\n",
       " 3    0.5\n",
       " 4    0.2\n",
       " Name: Actual, dtype: float64,\n",
       "     F1   F2    F3     F4\n",
       " 0  1.0  0.5  0.44   0.00\n",
       " 1  0.8  0.6  0.00   0.22\n",
       " 2  0.7  0.4  0.00   0.00\n",
       " 3  0.0  0.1  2.64   4.40\n",
       " 4  0.1  0.0  1.76  12.32)"
      ]
     },
     "execution_count": 12,
     "metadata": {},
     "output_type": "execute_result"
    }
   ],
   "source": [
    "Target = Training_df['Actual']\n",
    "Features = Training_df.drop(columns = 'Actual')\n",
    "Target,Features"
   ]
  },
  {
   "cell_type": "code",
   "execution_count": 13,
   "id": "0674422a",
   "metadata": {
    "scrolled": true
   },
   "outputs": [
    {
     "data": {
      "text/html": [
       "<div>\n",
       "<style scoped>\n",
       "    .dataframe tbody tr th:only-of-type {\n",
       "        vertical-align: middle;\n",
       "    }\n",
       "\n",
       "    .dataframe tbody tr th {\n",
       "        vertical-align: top;\n",
       "    }\n",
       "\n",
       "    .dataframe thead th {\n",
       "        text-align: right;\n",
       "    }\n",
       "</style>\n",
       "<table border=\"1\" class=\"dataframe\">\n",
       "  <thead>\n",
       "    <tr style=\"text-align: right;\">\n",
       "      <th></th>\n",
       "      <th>F1</th>\n",
       "      <th>F2</th>\n",
       "      <th>F3</th>\n",
       "      <th>F4</th>\n",
       "    </tr>\n",
       "  </thead>\n",
       "  <tbody>\n",
       "    <tr>\n",
       "      <th>0</th>\n",
       "      <td>0.5</td>\n",
       "      <td>0.6</td>\n",
       "      <td>0.22</td>\n",
       "      <td>0.00</td>\n",
       "    </tr>\n",
       "    <tr>\n",
       "      <th>1</th>\n",
       "      <td>0.1</td>\n",
       "      <td>0.0</td>\n",
       "      <td>2.64</td>\n",
       "      <td>0.88</td>\n",
       "    </tr>\n",
       "  </tbody>\n",
       "</table>\n",
       "</div>"
      ],
      "text/plain": [
       "    F1   F2    F3    F4\n",
       "0  0.5  0.6  0.22  0.00\n",
       "1  0.1  0.0  2.64  0.88"
      ]
     },
     "execution_count": 13,
     "metadata": {},
     "output_type": "execute_result"
    }
   ],
   "source": [
    "Test_df = pd.read_csv('KNN_Real_query.csv')\n",
    "Test_df"
   ]
  },
  {
   "cell_type": "markdown",
   "id": "5c8b6cfb",
   "metadata": {},
   "source": [
    "####  Class Definition"
   ]
  },
  {
   "cell_type": "code",
   "execution_count": 14,
   "id": "1473e101",
   "metadata": {},
   "outputs": [],
   "source": [
    "    class KNNReal:\n",
    "        def fit(self,Features: pd.DataFrame,Target: pd.Series,K) -> pd.DataFrame:\n",
    "            self.Features = Features\n",
    "            self.Target = Target\n",
    "            self.K = K\n",
    "\n",
    "        def eucDist(self,_feature: pd.Series,_test: pd.Series):\n",
    "            euc_dist = np.sqrt(np.sum(np.square(_feature-_test)))\n",
    "            return euc_dist\n",
    "\n",
    "        def predict(self,Test):\n",
    "            self.target_arr = []\n",
    "            self.Test = Test\n",
    "            for i in range(len(Test)):\n",
    "                self.euc_dist_dict = {}\n",
    "                for j in range(len(Features)):\n",
    "                  #Assigning the corresponding class to the found eucledian distance\n",
    "                    self.euc_dist_dict[self.eucDist(self.Features.iloc[j],self.Test.iloc[i])] = self.Target[j]\n",
    "\n",
    "                #Appending the corresponding real predicted value for the query point i \n",
    "                self.target_arr.append(self.getActual(self.euc_dist_dict))    \n",
    "\n",
    "            self.Test['Target'] = self.Target\n",
    "            self.Test['Predicted'] = self.target_arr\n",
    "            return self.Test\n",
    "      \n",
    "        def predict_weight(self,Test):\n",
    "            self.Test = Test\n",
    "            self.weight_arr = []\n",
    "            self.target_arr = []\n",
    "            for i in range(len(Test)):\n",
    "                #Weight dictionary\n",
    "                self.euc_weight = {}\n",
    "                for j in range(len(Features)):\n",
    "                    self.euc_weight[self.eucWeight(self.eucDist(self.Features.iloc[j],self.Test.iloc[i]))] = self.Target[j]\n",
    "\n",
    "                self.target_arr.append(self.getActual_weight(self.euc_weight))\n",
    "\n",
    "            self.Test['Target'] = self.Target\n",
    "            self.Test['Predicted'] = self.target_arr\n",
    "            return self.Test\n",
    "        \n",
    "        def eucWeight(self,dist: float):\n",
    "            return (1/np.square(dist))\n",
    "        \n",
    "        def slice_k_weight(self,euc_weight: dict)-> dict:\n",
    "            #Sorting dictionary with key\n",
    "            euc_weight = dict(sorted(euc_weight.items()))\n",
    "            #Converting to list and slicing and then converting to dict\n",
    "            #Weight is inversely proportional to distance\n",
    "            return dict(list(euc_weight.items())[-self.K:])\n",
    "        \n",
    "        def getActual_weight(self,euc_dist_dict: dict):\n",
    "            #Slicing is the only difference for weight and dist\n",
    "            euc_dist_dict = self.slice_k_weight(euc_dist_dict)\n",
    "            \n",
    "            return np.mean(np.array(list(euc_dist_dict.values())))\n",
    "\n",
    "        def getActual(self,euc_dist_dict: dict):\n",
    "            euc_dist_dict = self.slice_k_weight(euc_dist_dict)\n",
    "            # Convert values of dictionary to list to easily find the mean..\n",
    "            # Return the mean - which is the predicted output..\n",
    "            return np.mean(np.array(list(euc_dist_dict.values())))\n",
    "\n",
    "        def slice_k(self,euc_dist_dict: dict):\n",
    "            #Sorting dictionary with key\n",
    "            euc_dist_dict = dict(sorted(euc_dist_dict.items()))\n",
    "            #Converting to list and slicing and then converting to dict..\n",
    "            return dict(list(euc_dist_dict.items())[:self.K])\n",
    "        "
   ]
  },
  {
   "cell_type": "markdown",
   "id": "4689ff14",
   "metadata": {},
   "source": [
    "#####  Fitting Model"
   ]
  },
  {
   "cell_type": "code",
   "execution_count": 15,
   "id": "c001a09c",
   "metadata": {},
   "outputs": [],
   "source": [
    "model = KNNReal()\n",
    "model.fit(Features,Target,3)"
   ]
  },
  {
   "cell_type": "markdown",
   "id": "03b8be1f",
   "metadata": {},
   "source": [
    "#####  Predicting (Dist)"
   ]
  },
  {
   "cell_type": "code",
   "execution_count": 16,
   "id": "49382e0a",
   "metadata": {
    "scrolled": true
   },
   "outputs": [
    {
     "data": {
      "text/html": [
       "<div>\n",
       "<style scoped>\n",
       "    .dataframe tbody tr th:only-of-type {\n",
       "        vertical-align: middle;\n",
       "    }\n",
       "\n",
       "    .dataframe tbody tr th {\n",
       "        vertical-align: top;\n",
       "    }\n",
       "\n",
       "    .dataframe thead th {\n",
       "        text-align: right;\n",
       "    }\n",
       "</style>\n",
       "<table border=\"1\" class=\"dataframe\">\n",
       "  <thead>\n",
       "    <tr style=\"text-align: right;\">\n",
       "      <th></th>\n",
       "      <th>F1</th>\n",
       "      <th>F2</th>\n",
       "      <th>F3</th>\n",
       "      <th>F4</th>\n",
       "      <th>Target</th>\n",
       "      <th>Predicted</th>\n",
       "    </tr>\n",
       "  </thead>\n",
       "  <tbody>\n",
       "    <tr>\n",
       "      <th>0</th>\n",
       "      <td>0.5</td>\n",
       "      <td>0.6</td>\n",
       "      <td>0.22</td>\n",
       "      <td>0.00</td>\n",
       "      <td>0.3</td>\n",
       "      <td>0.333333</td>\n",
       "    </tr>\n",
       "    <tr>\n",
       "      <th>1</th>\n",
       "      <td>0.1</td>\n",
       "      <td>0.0</td>\n",
       "      <td>2.64</td>\n",
       "      <td>0.88</td>\n",
       "      <td>0.9</td>\n",
       "      <td>0.466667</td>\n",
       "    </tr>\n",
       "  </tbody>\n",
       "</table>\n",
       "</div>"
      ],
      "text/plain": [
       "    F1   F2    F3    F4  Target  Predicted\n",
       "0  0.5  0.6  0.22  0.00     0.3   0.333333\n",
       "1  0.1  0.0  2.64  0.88     0.9   0.466667"
      ]
     },
     "execution_count": 16,
     "metadata": {},
     "output_type": "execute_result"
    }
   ],
   "source": [
    "predicted_df = model.predict(Test_df)\n",
    "predicted_df"
   ]
  },
  {
   "cell_type": "markdown",
   "id": "91a7a9e2",
   "metadata": {},
   "source": [
    "#### Predicting (Weight)"
   ]
  },
  {
   "cell_type": "code",
   "execution_count": 17,
   "id": "2d230676",
   "metadata": {},
   "outputs": [
    {
     "data": {
      "text/html": [
       "<div>\n",
       "<style scoped>\n",
       "    .dataframe tbody tr th:only-of-type {\n",
       "        vertical-align: middle;\n",
       "    }\n",
       "\n",
       "    .dataframe tbody tr th {\n",
       "        vertical-align: top;\n",
       "    }\n",
       "\n",
       "    .dataframe thead th {\n",
       "        text-align: right;\n",
       "    }\n",
       "</style>\n",
       "<table border=\"1\" class=\"dataframe\">\n",
       "  <thead>\n",
       "    <tr style=\"text-align: right;\">\n",
       "      <th></th>\n",
       "      <th>F1</th>\n",
       "      <th>F2</th>\n",
       "      <th>F3</th>\n",
       "      <th>F4</th>\n",
       "      <th>Target</th>\n",
       "      <th>Predicted</th>\n",
       "    </tr>\n",
       "  </thead>\n",
       "  <tbody>\n",
       "    <tr>\n",
       "      <th>0</th>\n",
       "      <td>0.5</td>\n",
       "      <td>0.6</td>\n",
       "      <td>0.22</td>\n",
       "      <td>0.00</td>\n",
       "      <td>0.3</td>\n",
       "      <td>0.633333</td>\n",
       "    </tr>\n",
       "    <tr>\n",
       "      <th>1</th>\n",
       "      <td>0.1</td>\n",
       "      <td>0.0</td>\n",
       "      <td>2.64</td>\n",
       "      <td>0.88</td>\n",
       "      <td>0.9</td>\n",
       "      <td>0.633333</td>\n",
       "    </tr>\n",
       "  </tbody>\n",
       "</table>\n",
       "</div>"
      ],
      "text/plain": [
       "    F1   F2    F3    F4  Target  Predicted\n",
       "0  0.5  0.6  0.22  0.00     0.3   0.633333\n",
       "1  0.1  0.0  2.64  0.88     0.9   0.633333"
      ]
     },
     "execution_count": 17,
     "metadata": {},
     "output_type": "execute_result"
    }
   ],
   "source": [
    "predicted_df_weight = model.predict_weight(Test_df)\n",
    "predicted_df_weight"
   ]
  }
 ],
 "metadata": {
  "kernelspec": {
   "display_name": "Python 3 (ipykernel)",
   "language": "python",
   "name": "python3"
  },
  "language_info": {
   "codemirror_mode": {
    "name": "ipython",
    "version": 3
   },
   "file_extension": ".py",
   "mimetype": "text/x-python",
   "name": "python",
   "nbconvert_exporter": "python",
   "pygments_lexer": "ipython3",
   "version": "3.11.3"
  }
 },
 "nbformat": 4,
 "nbformat_minor": 5
}
