{
 "cells": [
  {
   "cell_type": "markdown",
   "id": "f7e3e8c0-5851-4090-9874-5aeb5fc7cc9f",
   "metadata": {},
   "source": [
    "### Adaline"
   ]
  },
  {
   "cell_type": "code",
   "execution_count": 1,
   "id": "9e0d9b30-a287-4eef-a009-3e0e7311c6bf",
   "metadata": {},
   "outputs": [],
   "source": [
    "import pandas as pd\n",
    "import numpy as np"
   ]
  },
  {
   "cell_type": "code",
   "execution_count": 2,
   "id": "4cbe613c-8792-40fc-a765-e70781efab15",
   "metadata": {},
   "outputs": [
    {
     "data": {
      "text/html": [
       "<div>\n",
       "<style scoped>\n",
       "    .dataframe tbody tr th:only-of-type {\n",
       "        vertical-align: middle;\n",
       "    }\n",
       "\n",
       "    .dataframe tbody tr th {\n",
       "        vertical-align: top;\n",
       "    }\n",
       "\n",
       "    .dataframe thead th {\n",
       "        text-align: right;\n",
       "    }\n",
       "</style>\n",
       "<table border=\"1\" class=\"dataframe\">\n",
       "  <thead>\n",
       "    <tr style=\"text-align: right;\">\n",
       "      <th></th>\n",
       "      <th>x1</th>\n",
       "      <th>x2</th>\n",
       "      <th>target</th>\n",
       "    </tr>\n",
       "  </thead>\n",
       "  <tbody>\n",
       "    <tr>\n",
       "      <th>0</th>\n",
       "      <td>1</td>\n",
       "      <td>1</td>\n",
       "      <td>-1</td>\n",
       "    </tr>\n",
       "    <tr>\n",
       "      <th>1</th>\n",
       "      <td>1</td>\n",
       "      <td>-1</td>\n",
       "      <td>1</td>\n",
       "    </tr>\n",
       "    <tr>\n",
       "      <th>2</th>\n",
       "      <td>-1</td>\n",
       "      <td>1</td>\n",
       "      <td>-1</td>\n",
       "    </tr>\n",
       "    <tr>\n",
       "      <th>3</th>\n",
       "      <td>-1</td>\n",
       "      <td>-1</td>\n",
       "      <td>-1</td>\n",
       "    </tr>\n",
       "  </tbody>\n",
       "</table>\n",
       "</div>"
      ],
      "text/plain": [
       "   x1  x2  target\n",
       "0   1   1      -1\n",
       "1   1  -1       1\n",
       "2  -1   1      -1\n",
       "3  -1  -1      -1"
      ]
     },
     "execution_count": 2,
     "metadata": {},
     "output_type": "execute_result"
    }
   ],
   "source": [
    "df = pd.read_csv('Adaline_Training.csv')\n",
    "df"
   ]
  },
  {
   "cell_type": "code",
   "execution_count": 3,
   "id": "a80a17c9-a816-44ae-af27-46f2aec8542a",
   "metadata": {},
   "outputs": [],
   "source": [
    "Y = df.target\n",
    "X = df.drop(columns = 'target')"
   ]
  },
  {
   "cell_type": "code",
   "execution_count": 4,
   "id": "137782fd-29ad-45d3-b059-ce054e688b2f",
   "metadata": {},
   "outputs": [
    {
     "name": "stdout",
     "output_type": "stream",
     "text": [
      "<class 'pandas.core.frame.DataFrame'>\n",
      "RangeIndex: 4 entries, 0 to 3\n",
      "Data columns (total 3 columns):\n",
      " #   Column  Non-Null Count  Dtype\n",
      "---  ------  --------------  -----\n",
      " 0   x1      4 non-null      int64\n",
      " 1   x2      4 non-null      int64\n",
      " 2   target  4 non-null      int64\n",
      "dtypes: int64(3)\n",
      "memory usage: 228.0 bytes\n"
     ]
    }
   ],
   "source": [
    "df.info()"
   ]
  },
  {
   "cell_type": "code",
   "execution_count": 5,
   "id": "b87152ef-73ab-4d27-803f-f96945f3bfce",
   "metadata": {
    "scrolled": true
   },
   "outputs": [
    {
     "data": {
      "text/plain": [
       "(4, 3)"
      ]
     },
     "execution_count": 5,
     "metadata": {},
     "output_type": "execute_result"
    }
   ],
   "source": [
    "df.shape"
   ]
  },
  {
   "cell_type": "code",
   "execution_count": 11,
   "id": "013dbfe6-4ecd-40b5-b059-8e6e069d1d50",
   "metadata": {},
   "outputs": [
    {
     "name": "stdout",
     "output_type": "stream",
     "text": [
      "<class 'pandas.core.frame.DataFrame'>\n",
      "RangeIndex: 4 entries, 0 to 3\n",
      "Data columns (total 3 columns):\n",
      " #   Column  Non-Null Count  Dtype\n",
      "---  ------  --------------  -----\n",
      " 0   x1      4 non-null      int64\n",
      " 1   x2      4 non-null      int64\n",
      " 2   target  4 non-null      int64\n",
      "dtypes: int64(3)\n",
      "memory usage: 228.0 bytes\n"
     ]
    }
   ],
   "source": [
    "df.info()"
   ]
  },
  {
   "cell_type": "code",
   "execution_count": 6,
   "id": "26d44d32-1096-41cd-b285-c9f595b11497",
   "metadata": {},
   "outputs": [
    {
     "data": {
      "text/html": [
       "<div>\n",
       "<style scoped>\n",
       "    .dataframe tbody tr th:only-of-type {\n",
       "        vertical-align: middle;\n",
       "    }\n",
       "\n",
       "    .dataframe tbody tr th {\n",
       "        vertical-align: top;\n",
       "    }\n",
       "\n",
       "    .dataframe thead th {\n",
       "        text-align: right;\n",
       "    }\n",
       "</style>\n",
       "<table border=\"1\" class=\"dataframe\">\n",
       "  <thead>\n",
       "    <tr style=\"text-align: right;\">\n",
       "      <th></th>\n",
       "      <th>x1</th>\n",
       "      <th>x2</th>\n",
       "      <th>target</th>\n",
       "    </tr>\n",
       "  </thead>\n",
       "  <tbody>\n",
       "    <tr>\n",
       "      <th>count</th>\n",
       "      <td>4.000000</td>\n",
       "      <td>4.000000</td>\n",
       "      <td>4.0</td>\n",
       "    </tr>\n",
       "    <tr>\n",
       "      <th>mean</th>\n",
       "      <td>0.000000</td>\n",
       "      <td>0.000000</td>\n",
       "      <td>-0.5</td>\n",
       "    </tr>\n",
       "    <tr>\n",
       "      <th>std</th>\n",
       "      <td>1.154701</td>\n",
       "      <td>1.154701</td>\n",
       "      <td>1.0</td>\n",
       "    </tr>\n",
       "    <tr>\n",
       "      <th>min</th>\n",
       "      <td>-1.000000</td>\n",
       "      <td>-1.000000</td>\n",
       "      <td>-1.0</td>\n",
       "    </tr>\n",
       "    <tr>\n",
       "      <th>25%</th>\n",
       "      <td>-1.000000</td>\n",
       "      <td>-1.000000</td>\n",
       "      <td>-1.0</td>\n",
       "    </tr>\n",
       "    <tr>\n",
       "      <th>50%</th>\n",
       "      <td>0.000000</td>\n",
       "      <td>0.000000</td>\n",
       "      <td>-1.0</td>\n",
       "    </tr>\n",
       "    <tr>\n",
       "      <th>75%</th>\n",
       "      <td>1.000000</td>\n",
       "      <td>1.000000</td>\n",
       "      <td>-0.5</td>\n",
       "    </tr>\n",
       "    <tr>\n",
       "      <th>max</th>\n",
       "      <td>1.000000</td>\n",
       "      <td>1.000000</td>\n",
       "      <td>1.0</td>\n",
       "    </tr>\n",
       "  </tbody>\n",
       "</table>\n",
       "</div>"
      ],
      "text/plain": [
       "             x1        x2  target\n",
       "count  4.000000  4.000000     4.0\n",
       "mean   0.000000  0.000000    -0.5\n",
       "std    1.154701  1.154701     1.0\n",
       "min   -1.000000 -1.000000    -1.0\n",
       "25%   -1.000000 -1.000000    -1.0\n",
       "50%    0.000000  0.000000    -1.0\n",
       "75%    1.000000  1.000000    -0.5\n",
       "max    1.000000  1.000000     1.0"
      ]
     },
     "execution_count": 6,
     "metadata": {},
     "output_type": "execute_result"
    }
   ],
   "source": [
    "df.describe()"
   ]
  },
  {
   "cell_type": "code",
   "execution_count": 7,
   "id": "e4c2d849-2bd7-4c74-8694-26755cdedab0",
   "metadata": {},
   "outputs": [
    {
     "data": {
      "text/plain": [
       "<Axes: >"
      ]
     },
     "execution_count": 7,
     "metadata": {},
     "output_type": "execute_result"
    },
    {
     "data": {
      "image/png": "[encoded data removed]",
      "text/plain": [
       "<Figure size 640x480 with 1 Axes>"
      ]
     },
     "metadata": {},
     "output_type": "display_data"
    }
   ],
   "source": [
    "df.plot()"
   ]
  },
  {
   "cell_type": "code",
   "execution_count": 8,
   "id": "2b526a27-3b89-4007-8d6b-fd19ad52fd2e",
   "metadata": {},
   "outputs": [],
   "source": [
    "class Adaline():\n",
    "    def __init__(self,param: list,threshold: float):\n",
    "        self.param = param\n",
    "        self.threshold_value = threshold\n",
    "\n",
    "    def fit(self, X: pd.DataFrame, Y: pd.DataFrame, l_r: float):\n",
    "        self.X = X\n",
    "        X.insert(0,'1',1)\n",
    "        self.Y = Y\n",
    "        error = 0\n",
    "        while(True):\n",
    "            I_j_arr = []\n",
    "            for j in range(len(X)):\n",
    "                I_j = np.dot(self.param,X.iloc[j])\n",
    "                I_j_arr.append(I_j)\n",
    "                if (Y.iloc[j] - I_j)!=0:\n",
    "                    for k in range(len(self.param)):\n",
    "                        self.param[k] = self.param[k] + l_r * (Y.iloc[j]-I_j) *  X.iloc[j][k]\n",
    "            prev_error = error\n",
    "            error = self.SSE(I_j_arr)\n",
    "            #If the previous error = current error terminate\n",
    "            #Checking with threshold to end the loop \n",
    "            print('error: ',error)\n",
    "            if self.threshold(error) or prev_error == error:\n",
    "                break\n",
    "                \n",
    "    def threshold(self, error: float)->bool:\n",
    "        return True if error <= self.threshold_value else False\n",
    "\n",
    "    def SSE(self,I_j: list)-> float:\n",
    "        return np.sum(np.square(I_j - self.Y))\n",
    "\n",
    "    def get_param(self):\n",
    "        return self.param"
   ]
  },
  {
   "cell_type": "code",
   "execution_count": 9,
   "id": "1b4c97a9-344e-471e-99c6-4034ac52b582",
   "metadata": {},
   "outputs": [
    {
     "name": "stdout",
     "output_type": "stream",
     "text": [
      "error:  5.7156198400000005\n",
      "error:  2.430205401654886\n",
      "error:  2.085743908795756\n",
      "error:  2.0440656945108513\n",
      "error:  2.0395546354292136\n",
      "error:  2.039821192526251\n",
      "error:  2.040338477062453\n",
      "error:  2.040621593691771\n",
      "error:  2.040743721091613\n",
      "error:  2.040790820171745\n",
      "error:  2.0408077614612985\n",
      "error:  2.040813555759904\n",
      "error:  2.040815459377969\n",
      "error:  2.040816063470146\n",
      "error:  2.0408162491677073\n",
      "error:  2.0408163045116385\n",
      "error:  2.040816320489172\n",
      "error:  2.040816324944408\n",
      "error:  2.040816326137493\n",
      "error:  2.040816326441129\n",
      "error:  2.0408163265131005\n",
      "error:  2.040816326528301\n",
      "error:  2.0408163265308135\n",
      "error:  2.0408163265309347\n",
      "error:  2.040816326530783\n",
      "error:  2.0408163265306833\n",
      "error:  2.0408163265306385\n",
      "error:  2.0408163265306216\n",
      "error:  2.0408163265306145\n",
      "error:  2.0408163265306136\n",
      "error:  2.0408163265306136\n"
     ]
    }
   ],
   "source": [
    "model = Adaline(param=[0.2,0.2,0.2],threshold=0.5)\n",
    "model.fit(X,Y,l_r=0.2)"
   ]
  },
  {
   "cell_type": "code",
   "execution_count": 10,
   "id": "45f6a9ae-4892-4c54-b172-b99263b41739",
   "metadata": {},
   "outputs": [
    {
     "data": {
      "text/plain": [
       "[-0.4999999999999999, 0.5714285714285714, -0.3571428571428571]"
      ]
     },
     "execution_count": 10,
     "metadata": {},
     "output_type": "execute_result"
    }
   ],
   "source": [
    "model.get_param()"
   ]
  }
 ],
 "metadata": {
  "kernelspec": {
   "display_name": "Python 3 (ipykernel)",
   "language": "python",
   "name": "python3"
  },
  "language_info": {
   "codemirror_mode": {
    "name": "ipython",
    "version": 3
   },
   "file_extension": ".py",
   "mimetype": "text/x-python",
   "name": "python",
   "nbconvert_exporter": "python",
   "pygments_lexer": "ipython3",
   "version": "3.11.3"
  }
 },
 "nbformat": 4,
 "nbformat_minor": 5
}
