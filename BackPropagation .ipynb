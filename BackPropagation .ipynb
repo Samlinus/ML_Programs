{
 "cells": [
  {
   "cell_type": "code",
   "execution_count": 43,
   "id": "a3e758fa-7b20-4e91-9692-8c01f001c620",
   "metadata": {},
   "outputs": [],
   "source": [
    "import pandas as pd\n",
    "import numpy as np"
   ]
  },
  {
   "cell_type": "code",
   "execution_count": 44,
   "id": "371f6e0b-a658-40fe-8efc-298cbc5b2071",
   "metadata": {},
   "outputs": [
    {
     "data": {
      "text/html": [
       "<div>\n",
       "<style scoped>\n",
       "    .dataframe tbody tr th:only-of-type {\n",
       "        vertical-align: middle;\n",
       "    }\n",
       "\n",
       "    .dataframe tbody tr th {\n",
       "        vertical-align: top;\n",
       "    }\n",
       "\n",
       "    .dataframe thead th {\n",
       "        text-align: right;\n",
       "    }\n",
       "</style>\n",
       "<table border=\"1\" class=\"dataframe\">\n",
       "  <thead>\n",
       "    <tr style=\"text-align: right;\">\n",
       "      <th></th>\n",
       "      <th>x1</th>\n",
       "      <th>x2</th>\n",
       "      <th>y</th>\n",
       "    </tr>\n",
       "  </thead>\n",
       "  <tbody>\n",
       "    <tr>\n",
       "      <th>0</th>\n",
       "      <td>0.4</td>\n",
       "      <td>-0.7</td>\n",
       "      <td>0.1</td>\n",
       "    </tr>\n",
       "  </tbody>\n",
       "</table>\n",
       "</div>"
      ],
      "text/plain": [
       "   x1   x2     y\n",
       "0  0.4 -0.7  0.1"
      ]
     },
     "execution_count": 44,
     "metadata": {},
     "output_type": "execute_result"
    }
   ],
   "source": [
    "df = pd.read_csv('Back_Propagation_input.csv')\n",
    "df"
   ]
  },
  {
   "cell_type": "code",
   "execution_count": 45,
   "id": "53e7e441-bf7e-4a77-872b-c313ddc92997",
   "metadata": {},
   "outputs": [
    {
     "data": {
      "text/html": [
       "<div>\n",
       "<style scoped>\n",
       "    .dataframe tbody tr th:only-of-type {\n",
       "        vertical-align: middle;\n",
       "    }\n",
       "\n",
       "    .dataframe tbody tr th {\n",
       "        vertical-align: top;\n",
       "    }\n",
       "\n",
       "    .dataframe thead th {\n",
       "        text-align: right;\n",
       "    }\n",
       "</style>\n",
       "<table border=\"1\" class=\"dataframe\">\n",
       "  <thead>\n",
       "    <tr style=\"text-align: right;\">\n",
       "      <th></th>\n",
       "      <th>x1</th>\n",
       "      <th>x2</th>\n",
       "    </tr>\n",
       "  </thead>\n",
       "  <tbody>\n",
       "    <tr>\n",
       "      <th>0</th>\n",
       "      <td>0.4</td>\n",
       "      <td>-0.7</td>\n",
       "    </tr>\n",
       "  </tbody>\n",
       "</table>\n",
       "</div>"
      ],
      "text/plain": [
       "   x1   x2 \n",
       "0  0.4 -0.7"
      ]
     },
     "execution_count": 45,
     "metadata": {},
     "output_type": "execute_result"
    }
   ],
   "source": [
    "Y = df.y\n",
    "X = df.drop(columns='y')\n",
    "X"
   ]
  },
  {
   "cell_type": "code",
   "execution_count": 57,
   "id": "117d7115-f5a0-4052-a17d-05d9316dda8b",
   "metadata": {},
   "outputs": [],
   "source": [
    "class Back_Propagation():\n",
    "    def __init__(self,alpha,beta):\n",
    "        self.alpha = alpha\n",
    "        self.beta = beta\n",
    "        self.L = int(input('No. of neurons of input layer: '))\n",
    "        self.M = int(input('No. of neurons of hidden layer: '))\n",
    "        self.N = int(input('No. of neurons of output layer: '))\n",
    "        self.initialize()\n",
    "    \n",
    "    def initialize(self):\n",
    "        self.grad_V = np.zeros((self.L,self.M))# (L x M)\n",
    "        self.grad_W = np.zeros((self.M,self.N))# (M x N)\n",
    "        self.V_Matrix = np.empty((self.L,self.M))# (L x M)\n",
    "        self.W_Matrix = np.empty((self.M,self.N))# (M x N)\n",
    "        self.Error_arr = [] # (No. of Dp x 1)\n",
    "        self.Y_Matrix = np.empty((self.M,1))\n",
    "        # V_Matrix (L x M)\n",
    "        print('Enter the weights of input to hidden layer..')\n",
    "        for i in range(self.L):\n",
    "            temp = []\n",
    "            for j in range(self.M):\n",
    "                temp.append(float(input()))\n",
    "            self.V_Matrix[i] = temp    \n",
    "            \n",
    "        # W_Matrix (M x N)\n",
    "        print('Enter the weights of hidden to output layer..')\n",
    "        for i in range(self.M):\n",
    "            temp = []\n",
    "            for j in range(self.N):\n",
    "                temp.append(float(input()))\n",
    "            self.W_Matrix[i] = temp\n",
    "        \n",
    "            \n",
    "    def fit(self, X: pd.DataFrame,Y: pd.Series):\n",
    "        self.X = X\n",
    "        self.Y = Y\n",
    "        \n",
    "        # Calculate input of hidden layer..\n",
    "        #{I}h = <V> {O}i\n",
    "        for index in range(len(X)):\n",
    "            # Input of hidden layer...\n",
    "            \n",
    "            # (M x L) * (L x 1)\n",
    "            # To convert  [0.54487889 0.50499983] - (1 x M) to\n",
    "            # [  [0.54487889],\n",
    "            #    [0.50499983]\n",
    "            # ] - (M x 1)\n",
    "            input_of_hidden_layer = []\n",
    "            input_of_hidden_layer.append(np.dot(np.transpose(self.V_Matrix),X.iloc[index]))\n",
    "            input_of_hidden_layer = np.transpose(input_of_hidden_layer)\n",
    "            print('Input of hidden layer..')\n",
    "            print(input_of_hidden_layer)\n",
    "            # To convert  [0.54487889 0.50499983] - (1 x M) to\n",
    "            # [  [0.54487889],\n",
    "            #    [0.50499983]\n",
    "            # ] - (M x 1)\n",
    "            output_of_hidden_layer = self.activate(input_of_hidden_layer)\n",
    "            print('Output of hidden layer..')\n",
    "            print(output_of_hidden_layer)\n",
    "            \n",
    "            # (N x M) x (M x 1)\n",
    "            input_of_output_layer = np.dot(np.transpose(self.W_Matrix),output_of_hidden_layer)\n",
    "            print('Input of output layer..')\n",
    "            print(input_of_output_layer)\n",
    "            output_of_output_layer = self.activate(input_of_output_layer)\n",
    "            print('Output of output layer..')\n",
    "            print(output_of_output_layer)\n",
    "            \n",
    "            # Compute Error...\n",
    "            print('Target: ',Y.iloc[index])\n",
    "            self.Error_arr.append(np.sqrt(np.square(Y.iloc[index] - output_of_output_layer)))\n",
    "            print(f'Error for dp{index+1}: ',self.Error_arr[index])\n",
    "\n",
    "            # Finding D.....\n",
    "            d = []\n",
    "            d.append((Y.iloc[index] - output_of_output_layer[0]) * output_of_output_layer[0] * (1 - output_of_output_layer[0]))\n",
    "            print('d',d)\n",
    "            \n",
    "            # Finding [Y]\n",
    "            \n",
    "            Y_matrix = np.dot(output_of_hidden_layer,d)\n",
    "            print('Y_Matrix: ',Y_matrix)\n",
    "\n",
    "            # Gradient W i.e. Gradient of weight of hidden to output layer..\n",
    "            print('Shape: ',self.grad_W.shape)\n",
    "            self.grad_W = np.dot(self.alpha,self.grad_W) + np.dot(self.beta,Y_matrix)\n",
    "            print('Gradient w..')\n",
    "            print(self.grad_W)\n",
    "\n",
    "            # e = [w] * {d}\n",
    "            e = np.dot(self.W_Matrix,d)\n",
    "            print('e matrix..')\n",
    "            print(e)\n",
    "\n",
    "            # Step 11 - d_start_matrix (M x 1)\n",
    "            d_star_matrix = []\n",
    "            for j in range(len(e)):\n",
    "                d_star_matrix.append([e[j][0] * output_of_hidden_layer[j][0] * (1-output_of_hidden_layer[j][0])])\n",
    "            print('D Star matrix..')\n",
    "            d_star_matrix = np.array(d_star_matrix)\n",
    "            print(d_star_matrix)\n",
    "            \n",
    "            # step 12 - [X] = {O}I <d>\n",
    "            # Converting 1 x n to n x 1\n",
    "            temp = []\n",
    "            temp.append(X.iloc[index])\n",
    "            print('Temp..')\n",
    "            print(np.transpose(temp).shape)\n",
    "            X_Matrix = np.dot(np.transpose(temp),np.transpose(d_star_matrix))\n",
    "            print('X matrix..')\n",
    "            print(X_Matrix)\n",
    "\n",
    "            # Step 13 - grad_v\n",
    "            self.grad_V = np.dot(self.alpha,self.grad_V) + np.dot(self.beta,X_Matrix)\n",
    "            print('Grad V...')\n",
    "            print(self.grad_V)\n",
    "\n",
    "            # Step 14 - V_matrix\n",
    "            self.V_Matrix += self.grad_V\n",
    "            print('V_matrix...')\n",
    "            print(self.V_Matrix)\n",
    "\n",
    "            # Step 15 - W_matrix\n",
    "            self.W_Matrix +=self.grad_W\n",
    "            print('W_matrix...')\n",
    "            print(self.W_Matrix)\n",
    "    \n",
    "    def activate(self,x: list)->list:\n",
    "        print('Sigmoid function...')\n",
    "        return 1 / (1+np.exp(-x))        "
   ]
  },
  {
   "cell_type": "code",
   "execution_count": 58,
   "id": "c8dc5f5a-8ce9-491b-b69a-a549b153fdeb",
   "metadata": {},
   "outputs": [
    {
     "name": "stdin",
     "output_type": "stream",
     "text": [
      "No. of neurons of input layer:  2\n",
      "No. of neurons of hidden layer:  2\n",
      "No. of neurons of output layer:  1\n"
     ]
    },
    {
     "name": "stdout",
     "output_type": "stream",
     "text": [
      "Enter the weights of input to hidden layer..\n"
     ]
    },
    {
     "name": "stdin",
     "output_type": "stream",
     "text": [
      " 0.1\n",
      " 0.4\n",
      " -0.2\n",
      " 0.2\n"
     ]
    },
    {
     "name": "stdout",
     "output_type": "stream",
     "text": [
      "Enter the weights of hidden to output layer..\n"
     ]
    },
    {
     "name": "stdin",
     "output_type": "stream",
     "text": [
      " 0.2\n",
      " -0.5\n"
     ]
    },
    {
     "name": "stdout",
     "output_type": "stream",
     "text": [
      "Input of hidden layer..\n",
      "[[0.18]\n",
      " [0.02]]\n",
      "Sigmoid function...\n",
      "Output of hidden layer..\n",
      "[[0.54487889]\n",
      " [0.50499983]]\n",
      "Input of output layer..\n",
      "[[-0.14352414]]\n",
      "Sigmoid function...\n",
      "Output of output layer..\n",
      "[[0.46418043]]\n",
      "Target:  0.1\n",
      "Error for dp1:  [[0.36418043]]\n",
      "d [array([-0.09057785])]\n",
      "Y_Matrix:  [[-0.04935396]\n",
      " [-0.0457418 ]]\n",
      "Shape:  (2, 1)\n",
      "Gradient w..\n",
      "[[-0.02961237]\n",
      " [-0.02744508]]\n",
      "e matrix..\n",
      "[[-0.01811557]\n",
      " [ 0.04528892]]\n",
      "D Star matrix..\n",
      "[[-0.00449241]\n",
      " [ 0.0113211 ]]\n",
      "Temp..\n",
      "(2, 1)\n",
      "X matrix..\n",
      "[[-0.00179696  0.00452844]\n",
      " [ 0.00314468 -0.00792477]]\n",
      "Grad V...\n",
      "[[-0.00107818  0.00271706]\n",
      " [ 0.00188681 -0.00475486]]\n",
      "V_matrix...\n",
      "[[ 0.09892182  0.40271706]\n",
      " [-0.19811319  0.19524514]]\n",
      "W_matrix...\n",
      "[[ 0.17038763]\n",
      " [-0.52744508]]\n"
     ]
    }
   ],
   "source": [
    "model = Back_Propagation(0.1,0.6)\n",
    "model.fit(X,Y)"
   ]
  }
 ],
 "metadata": {
  "kernelspec": {
   "display_name": "Python 3 (ipykernel)",
   "language": "python",
   "name": "python3"
  },
  "language_info": {
   "codemirror_mode": {
    "name": "ipython",
    "version": 3
   },
   "file_extension": ".py",
   "mimetype": "text/x-python",
   "name": "python",
   "nbconvert_exporter": "python",
   "pygments_lexer": "ipython3",
   "version": "3.11.3"
  }
 },
 "nbformat": 4,
 "nbformat_minor": 5
}
