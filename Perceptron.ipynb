{
 "cells": [
  {
   "cell_type": "markdown",
   "id": "0a4d3974",
   "metadata": {},
   "source": [
    "### Perceptron"
   ]
  },
  {
   "cell_type": "code",
   "execution_count": 28,
   "id": "135cfc9d",
   "metadata": {},
   "outputs": [],
   "source": [
    "import pandas as pd\n",
    "import numpy as np\n",
    "import matplotlib.pyplot as plt"
   ]
  },
  {
   "cell_type": "code",
   "execution_count": 2,
   "id": "1de9fa55",
   "metadata": {},
   "outputs": [
    {
     "data": {
      "text/html": [
       "<div>\n",
       "<style scoped>\n",
       "    .dataframe tbody tr th:only-of-type {\n",
       "        vertical-align: middle;\n",
       "    }\n",
       "\n",
       "    .dataframe tbody tr th {\n",
       "        vertical-align: top;\n",
       "    }\n",
       "\n",
       "    .dataframe thead th {\n",
       "        text-align: right;\n",
       "    }\n",
       "</style>\n",
       "<table border=\"1\" class=\"dataframe\">\n",
       "  <thead>\n",
       "    <tr style=\"text-align: right;\">\n",
       "      <th></th>\n",
       "      <th>x1</th>\n",
       "      <th>x2</th>\n",
       "      <th>Target</th>\n",
       "    </tr>\n",
       "  </thead>\n",
       "  <tbody>\n",
       "    <tr>\n",
       "      <th>0</th>\n",
       "      <td>0</td>\n",
       "      <td>0</td>\n",
       "      <td>0</td>\n",
       "    </tr>\n",
       "    <tr>\n",
       "      <th>1</th>\n",
       "      <td>0</td>\n",
       "      <td>1</td>\n",
       "      <td>0</td>\n",
       "    </tr>\n",
       "    <tr>\n",
       "      <th>2</th>\n",
       "      <td>1</td>\n",
       "      <td>0</td>\n",
       "      <td>0</td>\n",
       "    </tr>\n",
       "    <tr>\n",
       "      <th>3</th>\n",
       "      <td>1</td>\n",
       "      <td>1</td>\n",
       "      <td>1</td>\n",
       "    </tr>\n",
       "  </tbody>\n",
       "</table>\n",
       "</div>"
      ],
      "text/plain": [
       "   x1  x2  Target\n",
       "0   0   0       0\n",
       "1   0   1       0\n",
       "2   1   0       0\n",
       "3   1   1       1"
      ]
     },
     "execution_count": 2,
     "metadata": {},
     "output_type": "execute_result"
    }
   ],
   "source": [
    "df = pd.read_csv('Perceptron_training.csv')\n",
    "df"
   ]
  },
  {
   "cell_type": "markdown",
   "id": "591b7c6d-dc8f-4aa9-bb63-bbc6d462b149",
   "metadata": {},
   "source": [
    "- Splitting target and Features"
   ]
  },
  {
   "cell_type": "code",
   "execution_count": 3,
   "id": "3e60650b",
   "metadata": {},
   "outputs": [],
   "source": [
    "Y = df['Target']\n",
    "X = df.drop(columns='Target')"
   ]
  },
  {
   "cell_type": "code",
   "execution_count": 4,
   "id": "edc1f9c6",
   "metadata": {},
   "outputs": [
    {
     "data": {
      "text/plain": [
       "x1    0\n",
       "x2    0\n",
       "Name: 0, dtype: int64"
      ]
     },
     "execution_count": 4,
     "metadata": {},
     "output_type": "execute_result"
    }
   ],
   "source": [
    "X.iloc[0]"
   ]
  },
  {
   "cell_type": "code",
   "execution_count": 5,
   "id": "ff670ee4",
   "metadata": {},
   "outputs": [
    {
     "name": "stdout",
     "output_type": "stream",
     "text": [
      "<class 'pandas.core.frame.DataFrame'>\n",
      "RangeIndex: 4 entries, 0 to 3\n",
      "Data columns (total 3 columns):\n",
      " #   Column  Non-Null Count  Dtype\n",
      "---  ------  --------------  -----\n",
      " 0   x1      4 non-null      int64\n",
      " 1   x2      4 non-null      int64\n",
      " 2   Target  4 non-null      int64\n",
      "dtypes: int64(3)\n",
      "memory usage: 228.0 bytes\n"
     ]
    }
   ],
   "source": [
    "df.info()"
   ]
  },
  {
   "cell_type": "code",
   "execution_count": 6,
   "id": "5c42cd80",
   "metadata": {},
   "outputs": [
    {
     "data": {
      "text/plain": [
       "(4, 3)"
      ]
     },
     "execution_count": 6,
     "metadata": {},
     "output_type": "execute_result"
    }
   ],
   "source": [
    "df.shape"
   ]
  },
  {
   "cell_type": "code",
   "execution_count": 7,
   "id": "c2cb7105",
   "metadata": {},
   "outputs": [
    {
     "data": {
      "text/html": [
       "<div>\n",
       "<style scoped>\n",
       "    .dataframe tbody tr th:only-of-type {\n",
       "        vertical-align: middle;\n",
       "    }\n",
       "\n",
       "    .dataframe tbody tr th {\n",
       "        vertical-align: top;\n",
       "    }\n",
       "\n",
       "    .dataframe thead th {\n",
       "        text-align: right;\n",
       "    }\n",
       "</style>\n",
       "<table border=\"1\" class=\"dataframe\">\n",
       "  <thead>\n",
       "    <tr style=\"text-align: right;\">\n",
       "      <th></th>\n",
       "      <th>x1</th>\n",
       "      <th>x2</th>\n",
       "      <th>Target</th>\n",
       "    </tr>\n",
       "  </thead>\n",
       "  <tbody>\n",
       "    <tr>\n",
       "      <th>count</th>\n",
       "      <td>4.00000</td>\n",
       "      <td>4.00000</td>\n",
       "      <td>4.00</td>\n",
       "    </tr>\n",
       "    <tr>\n",
       "      <th>mean</th>\n",
       "      <td>0.50000</td>\n",
       "      <td>0.50000</td>\n",
       "      <td>0.25</td>\n",
       "    </tr>\n",
       "    <tr>\n",
       "      <th>std</th>\n",
       "      <td>0.57735</td>\n",
       "      <td>0.57735</td>\n",
       "      <td>0.50</td>\n",
       "    </tr>\n",
       "    <tr>\n",
       "      <th>min</th>\n",
       "      <td>0.00000</td>\n",
       "      <td>0.00000</td>\n",
       "      <td>0.00</td>\n",
       "    </tr>\n",
       "    <tr>\n",
       "      <th>25%</th>\n",
       "      <td>0.00000</td>\n",
       "      <td>0.00000</td>\n",
       "      <td>0.00</td>\n",
       "    </tr>\n",
       "    <tr>\n",
       "      <th>50%</th>\n",
       "      <td>0.50000</td>\n",
       "      <td>0.50000</td>\n",
       "      <td>0.00</td>\n",
       "    </tr>\n",
       "    <tr>\n",
       "      <th>75%</th>\n",
       "      <td>1.00000</td>\n",
       "      <td>1.00000</td>\n",
       "      <td>0.25</td>\n",
       "    </tr>\n",
       "    <tr>\n",
       "      <th>max</th>\n",
       "      <td>1.00000</td>\n",
       "      <td>1.00000</td>\n",
       "      <td>1.00</td>\n",
       "    </tr>\n",
       "  </tbody>\n",
       "</table>\n",
       "</div>"
      ],
      "text/plain": [
       "            x1       x2  Target\n",
       "count  4.00000  4.00000    4.00\n",
       "mean   0.50000  0.50000    0.25\n",
       "std    0.57735  0.57735    0.50\n",
       "min    0.00000  0.00000    0.00\n",
       "25%    0.00000  0.00000    0.00\n",
       "50%    0.50000  0.50000    0.00\n",
       "75%    1.00000  1.00000    0.25\n",
       "max    1.00000  1.00000    1.00"
      ]
     },
     "execution_count": 7,
     "metadata": {},
     "output_type": "execute_result"
    }
   ],
   "source": [
    "df.describe()"
   ]
  },
  {
   "cell_type": "markdown",
   "id": "6289be7c-a815-4e90-a108-157f04167303",
   "metadata": {},
   "source": [
    "- Splitting for plotting"
   ]
  },
  {
   "cell_type": "code",
   "execution_count": 27,
   "id": "0e899a0a-39f6-4edd-9f74-35f2600ba09c",
   "metadata": {},
   "outputs": [],
   "source": [
    "df_tar_0 = df[df['Target']== 0]\n",
    "df_tar_1 = df[df['Target']== 1]"
   ]
  },
  {
   "cell_type": "code",
   "execution_count": 26,
   "id": "6ca8dc1a-1ab8-47cb-84a3-fd694921a31b",
   "metadata": {
    "scrolled": true
   },
   "outputs": [
    {
     "data": {
      "text/html": [
       "<div>\n",
       "<style scoped>\n",
       "    .dataframe tbody tr th:only-of-type {\n",
       "        vertical-align: middle;\n",
       "    }\n",
       "\n",
       "    .dataframe tbody tr th {\n",
       "        vertical-align: top;\n",
       "    }\n",
       "\n",
       "    .dataframe thead th {\n",
       "        text-align: right;\n",
       "    }\n",
       "</style>\n",
       "<table border=\"1\" class=\"dataframe\">\n",
       "  <thead>\n",
       "    <tr style=\"text-align: right;\">\n",
       "      <th></th>\n",
       "      <th>x1</th>\n",
       "      <th>x2</th>\n",
       "    </tr>\n",
       "  </thead>\n",
       "  <tbody>\n",
       "    <tr>\n",
       "      <th>3</th>\n",
       "      <td>1</td>\n",
       "      <td>1</td>\n",
       "    </tr>\n",
       "  </tbody>\n",
       "</table>\n",
       "</div>"
      ],
      "text/plain": [
       "   x1  x2\n",
       "3   1   1"
      ]
     },
     "execution_count": 26,
     "metadata": {},
     "output_type": "execute_result"
    }
   ],
   "source": [
    "df_tar_1"
   ]
  },
  {
   "cell_type": "code",
   "execution_count": 32,
   "id": "df1b0199-2289-45e3-9a03-87aec222b054",
   "metadata": {},
   "outputs": [
    {
     "data": {
      "image/png": "[encoded data removed]",
      "text/plain": [
       "<Figure size 640x480 with 1 Axes>"
      ]
     },
     "metadata": {},
     "output_type": "display_data"
    }
   ],
   "source": [
    "plt.scatter(x = df_tar_0['x1'],y = df_tar_0['x2'],marker='o',label = 'Target 0',color = 'blue')\n",
    "plt.scatter(x = df_tar_1['x1'],y = df_tar_1['x2'],marker='+',label = 'Target 1',color = 'red')\n",
    "plt.xlabel('x1')\n",
    "plt.ylabel('x2')\n",
    "plt.show()"
   ]
  },
  {
   "cell_type": "code",
   "execution_count": 9,
   "id": "a6455262",
   "metadata": {},
   "outputs": [],
   "source": [
    "class Perceptron():\n",
    "    def fit(self,X: pd.DataFrame,Y: pd.DataFrame,l_r: float):\n",
    "        self.X = X\n",
    "        self.Y = Y\n",
    "        self.equal = False\n",
    "        while(self.equal==False):\n",
    "            self.equal = True\n",
    "            for i in range(len(X)):\n",
    "                # weighted sum, summation function\n",
    "                I_j = np.dot(self.param,X.iloc[i])\n",
    "                # compare with target\n",
    "                y_j = self.threshold(I_j)\n",
    "\n",
    "                if y_j!=Y.iloc[i]:\n",
    "                    self.equal = False\n",
    "                    #update parameters\n",
    "                    for k in range(len(self.param)):\n",
    "                        self.param[k] = self.param[k] + l_r * (Y.iloc[i]-y_j) * self.X.iloc[i][k]\n",
    "        print('They converge') \n",
    "        \n",
    "    def get_param(self):\n",
    "        return self.param\n",
    "    \n",
    "    def threshold(self,I_j):\n",
    "        return 1 if I_j>=1 else 0\n",
    "        \n",
    "    def __init__(self,arr: list):\n",
    "        self.param = arr"
   ]
  },
  {
   "cell_type": "code",
   "execution_count": 10,
   "id": "cd7978a9",
   "metadata": {
    "scrolled": true
   },
   "outputs": [
    {
     "name": "stdout",
     "output_type": "stream",
     "text": [
      "They converge\n",
      "Parameter:  [0.7, 0.6]\n"
     ]
    }
   ],
   "source": [
    "model = Perceptron([1.2,0.6])\n",
    "model.fit(X,Y,0.5)\n",
    "print('Parameter: ',model.get_param())"
   ]
  }
 ],
 "metadata": {
  "kernelspec": {
   "display_name": "py",
   "language": "python",
   "name": "myenv"
  },
  "language_info": {
   "codemirror_mode": {
    "name": "ipython",
    "version": 3
   },
   "file_extension": ".py",
   "mimetype": "text/x-python",
   "name": "python",
   "nbconvert_exporter": "python",
   "pygments_lexer": "ipython3",
   "version": "3.11.3"
  }
 },
 "nbformat": 4,
 "nbformat_minor": 5
}
