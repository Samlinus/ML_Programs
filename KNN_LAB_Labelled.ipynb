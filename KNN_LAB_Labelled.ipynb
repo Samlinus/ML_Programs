{
 "cells": [
  {
   "cell_type": "markdown",
   "id": "a29d1fb5",
   "metadata": {},
   "source": [
    "##  KNN Classification"
   ]
  },
  {
   "cell_type": "code",
   "execution_count": 1,
   "id": "ed65cb5b",
   "metadata": {},
   "outputs": [],
   "source": [
    "import pandas as pd\n",
    "import numpy as np"
   ]
  },
  {
   "cell_type": "code",
   "execution_count": 2,
   "id": "1d168580",
   "metadata": {
    "scrolled": true
   },
   "outputs": [
    {
     "data": {
      "text/html": [
       "<div>\n",
       "<style scoped>\n",
       "    .dataframe tbody tr th:only-of-type {\n",
       "        vertical-align: middle;\n",
       "    }\n",
       "\n",
       "    .dataframe tbody tr th {\n",
       "        vertical-align: top;\n",
       "    }\n",
       "\n",
       "    .dataframe thead th {\n",
       "        text-align: right;\n",
       "    }\n",
       "</style>\n",
       "<table border=\"1\" class=\"dataframe\">\n",
       "  <thead>\n",
       "    <tr style=\"text-align: right;\">\n",
       "      <th></th>\n",
       "      <th>F1</th>\n",
       "      <th>F2</th>\n",
       "      <th>F3</th>\n",
       "      <th>F4</th>\n",
       "      <th>Class</th>\n",
       "    </tr>\n",
       "  </thead>\n",
       "  <tbody>\n",
       "    <tr>\n",
       "      <th>0</th>\n",
       "      <td>1.0</td>\n",
       "      <td>0.5</td>\n",
       "      <td>0.44</td>\n",
       "      <td>0.00</td>\n",
       "      <td>l</td>\n",
       "    </tr>\n",
       "    <tr>\n",
       "      <th>1</th>\n",
       "      <td>0.8</td>\n",
       "      <td>0.6</td>\n",
       "      <td>0.00</td>\n",
       "      <td>0.22</td>\n",
       "      <td>l</td>\n",
       "    </tr>\n",
       "    <tr>\n",
       "      <th>2</th>\n",
       "      <td>0.7</td>\n",
       "      <td>0.4</td>\n",
       "      <td>0.00</td>\n",
       "      <td>0.00</td>\n",
       "      <td>l</td>\n",
       "    </tr>\n",
       "    <tr>\n",
       "      <th>3</th>\n",
       "      <td>0.0</td>\n",
       "      <td>0.1</td>\n",
       "      <td>2.64</td>\n",
       "      <td>4.40</td>\n",
       "      <td>c</td>\n",
       "    </tr>\n",
       "    <tr>\n",
       "      <th>4</th>\n",
       "      <td>0.1</td>\n",
       "      <td>0.0</td>\n",
       "      <td>1.76</td>\n",
       "      <td>12.32</td>\n",
       "      <td>c</td>\n",
       "    </tr>\n",
       "  </tbody>\n",
       "</table>\n",
       "</div>"
      ],
      "text/plain": [
       "    F1   F2    F3     F4 Class\n",
       "0  1.0  0.5  0.44   0.00     l\n",
       "1  0.8  0.6  0.00   0.22     l\n",
       "2  0.7  0.4  0.00   0.00     l\n",
       "3  0.0  0.1  2.64   4.40     c\n",
       "4  0.1  0.0  1.76  12.32     c"
      ]
     },
     "execution_count": 2,
     "metadata": {},
     "output_type": "execute_result"
    }
   ],
   "source": [
    "df = pd.read_csv('KNN_Discrete.csv')\n",
    "df"
   ]
  },
  {
   "cell_type": "markdown",
   "id": "6edfda9f",
   "metadata": {},
   "source": [
    "- Get query data points"
   ]
  },
  {
   "cell_type": "code",
   "execution_count": 3,
   "id": "95ce767b",
   "metadata": {
    "scrolled": true
   },
   "outputs": [
    {
     "name": "stdout",
     "output_type": "stream",
     "text": [
      "Enter the no. of query points: 2\n",
      "q 1\n",
      "value: 0.5\n",
      "value: 0.6\n",
      "value: 0.22\n",
      "value: 0\n",
      "q 2\n",
      "value: 0.1\n",
      "value: 0\n",
      "value: 2.64\n",
      "value: 0.88\n"
     ]
    },
    {
     "data": {
      "text/plain": [
       "[[0.5, 0.6, 0.22, 0.0], [0.1, 0.0, 2.64, 0.88]]"
      ]
     },
     "execution_count": 3,
     "metadata": {},
     "output_type": "execute_result"
    }
   ],
   "source": [
    "n = int(input('Enter the no. of query points: '))\n",
    "arr = []\n",
    "for i in range(n):\n",
    "    temp = []\n",
    "    print('q',(i+1))\n",
    "    for j in range(len(df.columns)-1):\n",
    "        temp.append(float(input('value: ')))\n",
    "    arr.append(temp)\n",
    "arr"
   ]
  },
  {
   "cell_type": "markdown",
   "id": "8afa097f",
   "metadata": {},
   "source": [
    "- Convert query data points to dataframe"
   ]
  },
  {
   "cell_type": "code",
   "execution_count": 4,
   "id": "40b14ed8",
   "metadata": {
    "scrolled": true
   },
   "outputs": [
    {
     "data": {
      "text/html": [
       "<div>\n",
       "<style scoped>\n",
       "    .dataframe tbody tr th:only-of-type {\n",
       "        vertical-align: middle;\n",
       "    }\n",
       "\n",
       "    .dataframe tbody tr th {\n",
       "        vertical-align: top;\n",
       "    }\n",
       "\n",
       "    .dataframe thead th {\n",
       "        text-align: right;\n",
       "    }\n",
       "</style>\n",
       "<table border=\"1\" class=\"dataframe\">\n",
       "  <thead>\n",
       "    <tr style=\"text-align: right;\">\n",
       "      <th></th>\n",
       "      <th>F1</th>\n",
       "      <th>F2</th>\n",
       "      <th>F3</th>\n",
       "      <th>F4</th>\n",
       "    </tr>\n",
       "  </thead>\n",
       "  <tbody>\n",
       "    <tr>\n",
       "      <th>0</th>\n",
       "      <td>0.5</td>\n",
       "      <td>0.6</td>\n",
       "      <td>0.22</td>\n",
       "      <td>0.00</td>\n",
       "    </tr>\n",
       "    <tr>\n",
       "      <th>1</th>\n",
       "      <td>0.1</td>\n",
       "      <td>0.0</td>\n",
       "      <td>2.64</td>\n",
       "      <td>0.88</td>\n",
       "    </tr>\n",
       "  </tbody>\n",
       "</table>\n",
       "</div>"
      ],
      "text/plain": [
       "    F1   F2    F3    F4\n",
       "0  0.5  0.6  0.22  0.00\n",
       "1  0.1  0.0  2.64  0.88"
      ]
     },
     "execution_count": 4,
     "metadata": {},
     "output_type": "execute_result"
    }
   ],
   "source": [
    "df_query = pd.DataFrame()\n",
    "for j in range(len(arr[0])):\n",
    "    df_query['F'+str(j+1)] = [arr[i][j] for i in range(len(arr))]\n",
    "    \n",
    "df_query"
   ]
  },
  {
   "cell_type": "markdown",
   "id": "c78b6b43",
   "metadata": {},
   "source": [
    "- Query slicing"
   ]
  },
  {
   "cell_type": "code",
   "execution_count": 5,
   "id": "b5600b24",
   "metadata": {},
   "outputs": [
    {
     "data": {
      "text/plain": [
       "F1    0.5\n",
       "F2    0.6\n",
       "Name: 0, dtype: float64"
      ]
     },
     "execution_count": 5,
     "metadata": {},
     "output_type": "execute_result"
    }
   ],
   "source": [
    "df_query.loc[0][:2]"
   ]
  },
  {
   "cell_type": "markdown",
   "id": "72c7a770",
   "metadata": {},
   "source": [
    "- Calculate Eucledian Distance"
   ]
  },
  {
   "cell_type": "code",
   "execution_count": 6,
   "id": "d30245e2",
   "metadata": {},
   "outputs": [
    {
     "data": {
      "text/html": [
       "<div>\n",
       "<style scoped>\n",
       "    .dataframe tbody tr th:only-of-type {\n",
       "        vertical-align: middle;\n",
       "    }\n",
       "\n",
       "    .dataframe tbody tr th {\n",
       "        vertical-align: top;\n",
       "    }\n",
       "\n",
       "    .dataframe thead th {\n",
       "        text-align: right;\n",
       "    }\n",
       "</style>\n",
       "<table border=\"1\" class=\"dataframe\">\n",
       "  <thead>\n",
       "    <tr style=\"text-align: right;\">\n",
       "      <th></th>\n",
       "      <th>F1</th>\n",
       "      <th>F2</th>\n",
       "      <th>F3</th>\n",
       "      <th>F4</th>\n",
       "      <th>Class</th>\n",
       "    </tr>\n",
       "  </thead>\n",
       "  <tbody>\n",
       "    <tr>\n",
       "      <th>0</th>\n",
       "      <td>1.0</td>\n",
       "      <td>0.5</td>\n",
       "      <td>0.44</td>\n",
       "      <td>0.00</td>\n",
       "      <td>l</td>\n",
       "    </tr>\n",
       "    <tr>\n",
       "      <th>1</th>\n",
       "      <td>0.8</td>\n",
       "      <td>0.6</td>\n",
       "      <td>0.00</td>\n",
       "      <td>0.22</td>\n",
       "      <td>l</td>\n",
       "    </tr>\n",
       "    <tr>\n",
       "      <th>2</th>\n",
       "      <td>0.7</td>\n",
       "      <td>0.4</td>\n",
       "      <td>0.00</td>\n",
       "      <td>0.00</td>\n",
       "      <td>l</td>\n",
       "    </tr>\n",
       "    <tr>\n",
       "      <th>3</th>\n",
       "      <td>0.0</td>\n",
       "      <td>0.1</td>\n",
       "      <td>2.64</td>\n",
       "      <td>4.40</td>\n",
       "      <td>c</td>\n",
       "    </tr>\n",
       "    <tr>\n",
       "      <th>4</th>\n",
       "      <td>0.1</td>\n",
       "      <td>0.0</td>\n",
       "      <td>1.76</td>\n",
       "      <td>12.32</td>\n",
       "      <td>c</td>\n",
       "    </tr>\n",
       "  </tbody>\n",
       "</table>\n",
       "</div>"
      ],
      "text/plain": [
       "    F1   F2    F3     F4 Class\n",
       "0  1.0  0.5  0.44   0.00     l\n",
       "1  0.8  0.6  0.00   0.22     l\n",
       "2  0.7  0.4  0.00   0.00     l\n",
       "3  0.0  0.1  2.64   4.40     c\n",
       "4  0.1  0.0  1.76  12.32     c"
      ]
     },
     "execution_count": 6,
     "metadata": {},
     "output_type": "execute_result"
    }
   ],
   "source": [
    "df"
   ]
  },
  {
   "cell_type": "markdown",
   "id": "320184c1",
   "metadata": {},
   "source": [
    "- Intuition"
   ]
  },
  {
   "cell_type": "code",
   "execution_count": 7,
   "id": "b1138f67",
   "metadata": {},
   "outputs": [
    {
     "data": {
      "text/plain": [
       "0.5553377350765928"
      ]
     },
     "execution_count": 7,
     "metadata": {},
     "output_type": "execute_result"
    }
   ],
   "source": [
    "np.sqrt(np.sum(np.square(np.array(df_query.loc[0])-np.array(df.loc[0][:len(df_query.loc[0])]))))"
   ]
  },
  {
   "cell_type": "markdown",
   "id": "8afb5de2",
   "metadata": {},
   "source": [
    "- Eucledian Distance"
   ]
  },
  {
   "cell_type": "code",
   "execution_count": 8,
   "id": "bd372b66",
   "metadata": {
    "scrolled": true
   },
   "outputs": [
    {
     "name": "stdout",
     "output_type": "stream",
     "text": [
      "K: 3\n"
     ]
    }
   ],
   "source": [
    "# Get k value..\n",
    "K = int(input('K: '))"
   ]
  },
  {
   "cell_type": "markdown",
   "id": "98bad707",
   "metadata": {},
   "source": [
    "- Get the appropriate class"
   ]
  },
  {
   "cell_type": "markdown",
   "id": "d34f8ee2",
   "metadata": {},
   "source": [
    "##### Intuition\n",
    "- list(_shortListed_dict.keys())\n",
    "- list(_shortListed_dict.values())\n",
    "- max(_shortListed_dict.values())"
   ]
  },
  {
   "cell_type": "code",
   "execution_count": 9,
   "id": "1b70ecef",
   "metadata": {},
   "outputs": [],
   "source": [
    "\n",
    "def getClass(_dict):\n",
    "    _class_count_dict = {} #For counting the the max occurred classes\n",
    "    _dict = slice_k(_dict,K)\n",
    "    \n",
    "    # Counting the repeated classes from the sliced dictionary\n",
    "    for value in _dict.values():\n",
    "        _class_count_dict[value] = _class_count_dict.get(value,0)+1\n",
    "        \n",
    "    # Printing the dictionary with class and respective class counts..\n",
    "    print(_class_count_dict)\n",
    "    \n",
    "    #  Converting dict to list and accessing the maximum occured neighbour class   \n",
    "    key = list(_class_count_dict.keys())[list(_class_count_dict.values()).index(max(_class_count_dict.values()))]  \n",
    "    \n",
    "    return key\n",
    "    \n"
   ]
  },
  {
   "cell_type": "markdown",
   "id": "f5bc56d4",
   "metadata": {},
   "source": [
    "- slice the dictionary"
   ]
  },
  {
   "cell_type": "code",
   "execution_count": 10,
   "id": "5f5bd655",
   "metadata": {},
   "outputs": [],
   "source": [
    "def slice_k(_dist,K):\n",
    "    \n",
    "    #Sorting dictionary\n",
    "    _dist = dict(sorted(_dist.items())) \n",
    "    \n",
    "    #Converting to list and slicing and then converting to dict..\n",
    "    _dist = dict(list(_dist.items())[:K]) \n",
    "    \n",
    "    return _dist"
   ]
  },
  {
   "cell_type": "code",
   "execution_count": 11,
   "id": "8ebb349c",
   "metadata": {
    "scrolled": true
   },
   "outputs": [
    {
     "name": "stdout",
     "output_type": "stream",
     "text": [
      "{'l': 3}\n",
      "{'l': 3}\n"
     ]
    },
    {
     "data": {
      "text/plain": [
       "['l', 'l']"
      ]
     },
     "execution_count": 11,
     "metadata": {},
     "output_type": "execute_result"
    }
   ],
   "source": [
    "# Initalizing target_class list to store it in dataframe.\n",
    "target_class = []\n",
    "for i in range(len(df_query)):\n",
    "    _dist = {}\n",
    "    for j in range(len(df)):\n",
    "        \n",
    "        # np.sqrt(np.sum(np.square(df_query.loc[i]-df.loc[j][:len(df_query.loc[i])]))) - gives the eucledian distance\n",
    "        \n",
    "        #Assigning the corresponding class to the found eucledian distance\n",
    "        _dist[np.sqrt(np.sum(np.square(df_query.loc[i]-df.loc[j][:len(df_query.loc[i])])))] = df.loc[j]['Class']\n",
    "        \n",
    "    #Appending the corresponding class for the query point i\n",
    "    target_class.append(getClass(_dist))\n",
    "\n",
    "target_class"
   ]
  },
  {
   "cell_type": "markdown",
   "id": "d81dce4b",
   "metadata": {},
   "source": [
    "- Convert to data frame"
   ]
  },
  {
   "cell_type": "code",
   "execution_count": 12,
   "id": "d860d634",
   "metadata": {},
   "outputs": [
    {
     "data": {
      "text/html": [
       "<div>\n",
       "<style scoped>\n",
       "    .dataframe tbody tr th:only-of-type {\n",
       "        vertical-align: middle;\n",
       "    }\n",
       "\n",
       "    .dataframe tbody tr th {\n",
       "        vertical-align: top;\n",
       "    }\n",
       "\n",
       "    .dataframe thead th {\n",
       "        text-align: right;\n",
       "    }\n",
       "</style>\n",
       "<table border=\"1\" class=\"dataframe\">\n",
       "  <thead>\n",
       "    <tr style=\"text-align: right;\">\n",
       "      <th></th>\n",
       "      <th>F1</th>\n",
       "      <th>F2</th>\n",
       "      <th>F3</th>\n",
       "      <th>F4</th>\n",
       "      <th>Target</th>\n",
       "    </tr>\n",
       "  </thead>\n",
       "  <tbody>\n",
       "    <tr>\n",
       "      <th>0</th>\n",
       "      <td>0.5</td>\n",
       "      <td>0.6</td>\n",
       "      <td>0.22</td>\n",
       "      <td>0.00</td>\n",
       "      <td>l</td>\n",
       "    </tr>\n",
       "    <tr>\n",
       "      <th>1</th>\n",
       "      <td>0.1</td>\n",
       "      <td>0.0</td>\n",
       "      <td>2.64</td>\n",
       "      <td>0.88</td>\n",
       "      <td>l</td>\n",
       "    </tr>\n",
       "  </tbody>\n",
       "</table>\n",
       "</div>"
      ],
      "text/plain": [
       "    F1   F2    F3    F4 Target\n",
       "0  0.5  0.6  0.22  0.00      l\n",
       "1  0.1  0.0  2.64  0.88      l"
      ]
     },
     "execution_count": 12,
     "metadata": {},
     "output_type": "execute_result"
    }
   ],
   "source": [
    "df_query['Target'] = target_class\n",
    "df_query"
   ]
  },
  {
   "cell_type": "markdown",
   "id": "8e943114",
   "metadata": {},
   "source": [
    "- Save dataframe to separate file"
   ]
  },
  {
   "cell_type": "code",
   "execution_count": 13,
   "id": "648c3acc",
   "metadata": {},
   "outputs": [],
   "source": [
    "df_query.to_csv('KNN_ANS.csv', index=False)"
   ]
  }
 ],
 "metadata": {
  "kernelspec": {
   "display_name": "Python 3 (ipykernel)",
   "language": "python",
   "name": "python3"
  },
  "language_info": {
   "codemirror_mode": {
    "name": "ipython",
    "version": 3
   },
   "file_extension": ".py",
   "mimetype": "text/x-python",
   "name": "python",
   "nbconvert_exporter": "python",
   "pygments_lexer": "ipython3",
   "version": "3.11.3"
  }
 },
 "nbformat": 4,
 "nbformat_minor": 5
}
