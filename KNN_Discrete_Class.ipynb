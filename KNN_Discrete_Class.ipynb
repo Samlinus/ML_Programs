{
 "cells": [
  {
   "cell_type": "markdown",
   "id": "3bc2c53c",
   "metadata": {},
   "source": [
    "### KNN Classification(Discrete)"
   ]
  },
  {
   "cell_type": "code",
   "execution_count": 1,
   "id": "5afbee13",
   "metadata": {},
   "outputs": [],
   "source": [
    "import pandas as pd\n",
    "import numpy as np"
   ]
  },
  {
   "cell_type": "markdown",
   "id": "c2a80507",
   "metadata": {},
   "source": [
    "- Read Training Data"
   ]
  },
  {
   "cell_type": "code",
   "execution_count": 2,
   "id": "6bb656f8",
   "metadata": {},
   "outputs": [
    {
     "data": {
      "text/html": [
       "<div>\n",
       "<style scoped>\n",
       "    .dataframe tbody tr th:only-of-type {\n",
       "        vertical-align: middle;\n",
       "    }\n",
       "\n",
       "    .dataframe tbody tr th {\n",
       "        vertical-align: top;\n",
       "    }\n",
       "\n",
       "    .dataframe thead th {\n",
       "        text-align: right;\n",
       "    }\n",
       "</style>\n",
       "<table border=\"1\" class=\"dataframe\">\n",
       "  <thead>\n",
       "    <tr style=\"text-align: right;\">\n",
       "      <th></th>\n",
       "      <th>F1</th>\n",
       "      <th>F2</th>\n",
       "      <th>F3</th>\n",
       "      <th>F4</th>\n",
       "      <th>Class</th>\n",
       "    </tr>\n",
       "  </thead>\n",
       "  <tbody>\n",
       "    <tr>\n",
       "      <th>0</th>\n",
       "      <td>1.0</td>\n",
       "      <td>0.5</td>\n",
       "      <td>0.44</td>\n",
       "      <td>0.00</td>\n",
       "      <td>l</td>\n",
       "    </tr>\n",
       "    <tr>\n",
       "      <th>1</th>\n",
       "      <td>0.8</td>\n",
       "      <td>0.6</td>\n",
       "      <td>0.00</td>\n",
       "      <td>0.22</td>\n",
       "      <td>l</td>\n",
       "    </tr>\n",
       "    <tr>\n",
       "      <th>2</th>\n",
       "      <td>0.7</td>\n",
       "      <td>0.4</td>\n",
       "      <td>0.00</td>\n",
       "      <td>0.00</td>\n",
       "      <td>l</td>\n",
       "    </tr>\n",
       "    <tr>\n",
       "      <th>3</th>\n",
       "      <td>0.0</td>\n",
       "      <td>0.1</td>\n",
       "      <td>2.64</td>\n",
       "      <td>4.40</td>\n",
       "      <td>c</td>\n",
       "    </tr>\n",
       "    <tr>\n",
       "      <th>4</th>\n",
       "      <td>0.1</td>\n",
       "      <td>0.0</td>\n",
       "      <td>1.76</td>\n",
       "      <td>12.32</td>\n",
       "      <td>c</td>\n",
       "    </tr>\n",
       "  </tbody>\n",
       "</table>\n",
       "</div>"
      ],
      "text/plain": [
       "    F1   F2    F3     F4 Class\n",
       "0  1.0  0.5  0.44   0.00     l\n",
       "1  0.8  0.6  0.00   0.22     l\n",
       "2  0.7  0.4  0.00   0.00     l\n",
       "3  0.0  0.1  2.64   4.40     c\n",
       "4  0.1  0.0  1.76  12.32     c"
      ]
     },
     "execution_count": 2,
     "metadata": {},
     "output_type": "execute_result"
    }
   ],
   "source": [
    "Training_df = pd.read_csv('KNN_Discrete.csv')\n",
    "Training_df"
   ]
  },
  {
   "cell_type": "markdown",
   "id": "24554c8b",
   "metadata": {},
   "source": [
    "- Split Features and Target"
   ]
  },
  {
   "cell_type": "code",
   "execution_count": 3,
   "id": "00fd53cd",
   "metadata": {
    "scrolled": true
   },
   "outputs": [
    {
     "data": {
      "text/plain": [
       "(0    l\n",
       " 1    l\n",
       " 2    l\n",
       " 3    c\n",
       " 4    c\n",
       " Name: Class, dtype: object,\n",
       "     F1   F2    F3     F4\n",
       " 0  1.0  0.5  0.44   0.00\n",
       " 1  0.8  0.6  0.00   0.22\n",
       " 2  0.7  0.4  0.00   0.00\n",
       " 3  0.0  0.1  2.64   4.40\n",
       " 4  0.1  0.0  1.76  12.32)"
      ]
     },
     "execution_count": 3,
     "metadata": {},
     "output_type": "execute_result"
    }
   ],
   "source": [
    "Target = Training_df['Class']\n",
    "Features = Training_df.drop(columns = 'Class')\n",
    "Target,Features"
   ]
  },
  {
   "cell_type": "code",
   "execution_count": 4,
   "id": "9cbaa449",
   "metadata": {
    "scrolled": true
   },
   "outputs": [
    {
     "data": {
      "text/html": [
       "<div>\n",
       "<style scoped>\n",
       "    .dataframe tbody tr th:only-of-type {\n",
       "        vertical-align: middle;\n",
       "    }\n",
       "\n",
       "    .dataframe tbody tr th {\n",
       "        vertical-align: top;\n",
       "    }\n",
       "\n",
       "    .dataframe thead th {\n",
       "        text-align: right;\n",
       "    }\n",
       "</style>\n",
       "<table border=\"1\" class=\"dataframe\">\n",
       "  <thead>\n",
       "    <tr style=\"text-align: right;\">\n",
       "      <th></th>\n",
       "      <th>F1</th>\n",
       "      <th>F2</th>\n",
       "      <th>F3</th>\n",
       "      <th>F4</th>\n",
       "    </tr>\n",
       "  </thead>\n",
       "  <tbody>\n",
       "    <tr>\n",
       "      <th>0</th>\n",
       "      <td>0.5</td>\n",
       "      <td>0.6</td>\n",
       "      <td>0.22</td>\n",
       "      <td>0.00</td>\n",
       "    </tr>\n",
       "    <tr>\n",
       "      <th>1</th>\n",
       "      <td>0.1</td>\n",
       "      <td>0.0</td>\n",
       "      <td>2.64</td>\n",
       "      <td>0.88</td>\n",
       "    </tr>\n",
       "  </tbody>\n",
       "</table>\n",
       "</div>"
      ],
      "text/plain": [
       "    F1   F2    F3    F4\n",
       "0  0.5  0.6  0.22  0.00\n",
       "1  0.1  0.0  2.64  0.88"
      ]
     },
     "execution_count": 4,
     "metadata": {},
     "output_type": "execute_result"
    }
   ],
   "source": [
    "Test_df = pd.read_csv('KNN_Real_query.csv')\n",
    "Test_df"
   ]
  },
  {
   "cell_type": "markdown",
   "id": "fc9782ed",
   "metadata": {},
   "source": [
    "#### Class implementation"
   ]
  },
  {
   "cell_type": "code",
   "execution_count": 62,
   "id": "5567ce3d",
   "metadata": {},
   "outputs": [],
   "source": [
    "class KNNDiscrete:\n",
    "    def fit(self, Features: pd.DataFrame, Target: pd.Series,K: int):\n",
    "        self.Features = Features\n",
    "        self.Target = Target\n",
    "        self.K = K\n",
    "        \n",
    "    def eucDist(self,_feature: pd.Series,_test: pd.Series):\n",
    "        euc_dist = np.sqrt(np.sum(np.square(_feature-_test)))\n",
    "        return euc_dist\n",
    "    \n",
    "    def predictDiscrete(self,Test):\n",
    "        self.target_arr = []\n",
    "        self.Test = Test\n",
    "        for i in range(len(Test)):\n",
    "            self.euc_dist_dict = {}\n",
    "            for j in range(len(Features)):\n",
    "                self.euc_dist_dict[self.eucDist(self.Features.iloc[j],self.Test.iloc[i])] = self.Target[j]\n",
    "                \n",
    "            self.target_arr.append(self.getActual(self.euc_dist_dict))\n",
    "            \n",
    "        self.Test['Predicted'] = self.target_arr\n",
    "        return self.Test\n",
    "    \n",
    "    def predict_weight(self,Test):\n",
    "        self.Test = Test\n",
    "        self.target_arr = []\n",
    "        for i in range(len(Test)):\n",
    "            self.euc_dist_dict = {}\n",
    "            for j in range(len(Features)):\n",
    "                    self.euc_dist_dict[self.eucDist(self.Features.iloc[j],self.Test.iloc[i])] = self.Target[j]\n",
    "                \n",
    "            self.target_arr.append(self.get_Actual_Weight_Class(self.euc_dist_dict))\n",
    "            \n",
    "        Test['Predicted'] = self.target_arr\n",
    "        return Test\n",
    "        \n",
    "    \n",
    "    def eucWeight(self,dist: float):\n",
    "        return (1/np.square(dist))\n",
    "\n",
    "    def distance_To_Weight(self,euc_dist_dict: dict):\n",
    "        temp_dict = {}\n",
    "        for key,value in euc_dist_dict.items():\n",
    "            temp_dict[self.eucWeight(key)] = value\n",
    "\n",
    "        return temp_dict\n",
    "        \n",
    "    def get_Actual_Weight_Class(self,euc_dist_dict: dict):\n",
    "        _class_weight_dict = {}\n",
    "        #Slice first k elements\n",
    "        euc_dist_dict = self.slice_k(euc_dist_dict)\n",
    "        #Convert key from (dist to weight)\n",
    "        euc_weight_dict = self.distance_To_Weight(euc_dist_dict)\n",
    "        #Sum up the weights for the respective labels\n",
    "        for value in euc_weight_dict.values():\n",
    "            _class_weight_dict[value] = np.sum([k for k,items in euc_weight_dict.items() if value == items])\n",
    "\n",
    "        return list(_class_weight_dict.keys())[list(_class_weight_dict.values()).index(max(_class_weight_dict.values()))]\n",
    "    \n",
    "    def getActual(self,euc_dist_dict: dict):\n",
    "        _class_count_dict = {}\n",
    "        euc_dist_dict = self.slice_k(euc_dist_dict)\n",
    "        \n",
    "        for value in euc_dist_dict.values():\n",
    "            _class_count_dict[value] = _class_count_dict.get(value,0)+1\n",
    "        \n",
    "        key = list(_class_count_dict.keys())[list(_class_count_dict.values()).index(max(_class_count_dict.values()))]\n",
    "        \n",
    "        return key\n",
    "        \n",
    "    def slice_k(self,euc_dist_dict: dict):\n",
    "        #Sorting dictionary with key\n",
    "        euc_dist_dict = dict(sorted(euc_dist_dict.items()))\n",
    "        #Converting to list and slicing and then converting to dict\n",
    "        return dict(list(euc_dist_dict.items())[:self.K])"
   ]
  },
  {
   "cell_type": "markdown",
   "id": "3ca77f22",
   "metadata": {},
   "source": [
    "#### - Fitting Model"
   ]
  },
  {
   "cell_type": "code",
   "execution_count": 63,
   "id": "611ba17b",
   "metadata": {},
   "outputs": [],
   "source": [
    "model = KNNDiscrete()\n",
    "model.fit(Features,Target,3)"
   ]
  },
  {
   "cell_type": "markdown",
   "id": "4c991b09",
   "metadata": {},
   "source": [
    "#### - Dist Prediction"
   ]
  },
  {
   "cell_type": "code",
   "execution_count": 65,
   "id": "91a5fd96",
   "metadata": {},
   "outputs": [
    {
     "data": {
      "text/html": [
       "<div>\n",
       "<style scoped>\n",
       "    .dataframe tbody tr th:only-of-type {\n",
       "        vertical-align: middle;\n",
       "    }\n",
       "\n",
       "    .dataframe tbody tr th {\n",
       "        vertical-align: top;\n",
       "    }\n",
       "\n",
       "    .dataframe thead th {\n",
       "        text-align: right;\n",
       "    }\n",
       "</style>\n",
       "<table border=\"1\" class=\"dataframe\">\n",
       "  <thead>\n",
       "    <tr style=\"text-align: right;\">\n",
       "      <th></th>\n",
       "      <th>F1</th>\n",
       "      <th>F2</th>\n",
       "      <th>F3</th>\n",
       "      <th>F4</th>\n",
       "      <th>Predicted</th>\n",
       "    </tr>\n",
       "  </thead>\n",
       "  <tbody>\n",
       "    <tr>\n",
       "      <th>0</th>\n",
       "      <td>0.5</td>\n",
       "      <td>0.6</td>\n",
       "      <td>0.22</td>\n",
       "      <td>0.00</td>\n",
       "      <td>l</td>\n",
       "    </tr>\n",
       "    <tr>\n",
       "      <th>1</th>\n",
       "      <td>0.1</td>\n",
       "      <td>0.0</td>\n",
       "      <td>2.64</td>\n",
       "      <td>0.88</td>\n",
       "      <td>l</td>\n",
       "    </tr>\n",
       "  </tbody>\n",
       "</table>\n",
       "</div>"
      ],
      "text/plain": [
       "    F1   F2    F3    F4 Predicted\n",
       "0  0.5  0.6  0.22  0.00         l\n",
       "1  0.1  0.0  2.64  0.88         l"
      ]
     },
     "execution_count": 65,
     "metadata": {},
     "output_type": "execute_result"
    }
   ],
   "source": [
    "predicted_df = model.predictDiscrete(Test_df)\n",
    "predicted_df"
   ]
  },
  {
   "cell_type": "markdown",
   "id": "39d95f56",
   "metadata": {},
   "source": [
    "#### - Weight Prediction"
   ]
  },
  {
   "cell_type": "code",
   "execution_count": 64,
   "id": "6ad09330",
   "metadata": {},
   "outputs": [
    {
     "data": {
      "text/html": [
       "<div>\n",
       "<style scoped>\n",
       "    .dataframe tbody tr th:only-of-type {\n",
       "        vertical-align: middle;\n",
       "    }\n",
       "\n",
       "    .dataframe tbody tr th {\n",
       "        vertical-align: top;\n",
       "    }\n",
       "\n",
       "    .dataframe thead th {\n",
       "        text-align: right;\n",
       "    }\n",
       "</style>\n",
       "<table border=\"1\" class=\"dataframe\">\n",
       "  <thead>\n",
       "    <tr style=\"text-align: right;\">\n",
       "      <th></th>\n",
       "      <th>F1</th>\n",
       "      <th>F2</th>\n",
       "      <th>F3</th>\n",
       "      <th>F4</th>\n",
       "      <th>Predicted</th>\n",
       "    </tr>\n",
       "  </thead>\n",
       "  <tbody>\n",
       "    <tr>\n",
       "      <th>0</th>\n",
       "      <td>0.5</td>\n",
       "      <td>0.6</td>\n",
       "      <td>0.22</td>\n",
       "      <td>0.00</td>\n",
       "      <td>l</td>\n",
       "    </tr>\n",
       "    <tr>\n",
       "      <th>1</th>\n",
       "      <td>0.1</td>\n",
       "      <td>0.0</td>\n",
       "      <td>2.64</td>\n",
       "      <td>0.88</td>\n",
       "      <td>l</td>\n",
       "    </tr>\n",
       "  </tbody>\n",
       "</table>\n",
       "</div>"
      ],
      "text/plain": [
       "    F1   F2    F3    F4 Predicted\n",
       "0  0.5  0.6  0.22  0.00         l\n",
       "1  0.1  0.0  2.64  0.88         l"
      ]
     },
     "execution_count": 64,
     "metadata": {},
     "output_type": "execute_result"
    }
   ],
   "source": [
    "model.predict_weight(Test_df)"
   ]
  }
 ],
 "metadata": {
  "kernelspec": {
   "display_name": "Python 3 (ipykernel)",
   "language": "python",
   "name": "python3"
  },
  "language_info": {
   "codemirror_mode": {
    "name": "ipython",
    "version": 3
   },
   "file_extension": ".py",
   "mimetype": "text/x-python",
   "name": "python",
   "nbconvert_exporter": "python",
   "pygments_lexer": "ipython3",
   "version": "3.11.3"
  }
 },
 "nbformat": 4,
 "nbformat_minor": 5
}
