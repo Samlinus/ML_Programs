{
 "cells": [
  {
   "cell_type": "markdown",
   "id": "293dd18c",
   "metadata": {},
   "source": [
    "### Naive Baye's Classifier (Labelled)"
   ]
  },
  {
   "cell_type": "code",
   "execution_count": 9,
   "id": "e3841684",
   "metadata": {},
   "outputs": [],
   "source": [
    "import pandas as pd\n",
    "import numpy as np"
   ]
  },
  {
   "cell_type": "code",
   "execution_count": 10,
   "id": "d3189870",
   "metadata": {
    "scrolled": true
   },
   "outputs": [
    {
     "data": {
      "text/html": [
       "<div>\n",
       "<style scoped>\n",
       "    .dataframe tbody tr th:only-of-type {\n",
       "        vertical-align: middle;\n",
       "    }\n",
       "\n",
       "    .dataframe tbody tr th {\n",
       "        vertical-align: top;\n",
       "    }\n",
       "\n",
       "    .dataframe thead th {\n",
       "        text-align: right;\n",
       "    }\n",
       "</style>\n",
       "<table border=\"1\" class=\"dataframe\">\n",
       "  <thead>\n",
       "    <tr style=\"text-align: right;\">\n",
       "      <th></th>\n",
       "      <th>Age</th>\n",
       "      <th>Income</th>\n",
       "      <th>Student</th>\n",
       "      <th>Credit_Rating</th>\n",
       "      <th>Actual</th>\n",
       "    </tr>\n",
       "  </thead>\n",
       "  <tbody>\n",
       "    <tr>\n",
       "      <th>0</th>\n",
       "      <td>youth</td>\n",
       "      <td>high</td>\n",
       "      <td>no</td>\n",
       "      <td>fair</td>\n",
       "      <td>no</td>\n",
       "    </tr>\n",
       "    <tr>\n",
       "      <th>1</th>\n",
       "      <td>youth</td>\n",
       "      <td>high</td>\n",
       "      <td>no</td>\n",
       "      <td>excellent</td>\n",
       "      <td>no</td>\n",
       "    </tr>\n",
       "    <tr>\n",
       "      <th>2</th>\n",
       "      <td>middle aged</td>\n",
       "      <td>high</td>\n",
       "      <td>no</td>\n",
       "      <td>fair</td>\n",
       "      <td>yes</td>\n",
       "    </tr>\n",
       "    <tr>\n",
       "      <th>3</th>\n",
       "      <td>senior</td>\n",
       "      <td>medium</td>\n",
       "      <td>no</td>\n",
       "      <td>fair</td>\n",
       "      <td>yes</td>\n",
       "    </tr>\n",
       "    <tr>\n",
       "      <th>4</th>\n",
       "      <td>senior</td>\n",
       "      <td>low</td>\n",
       "      <td>yes</td>\n",
       "      <td>fair</td>\n",
       "      <td>yes</td>\n",
       "    </tr>\n",
       "  </tbody>\n",
       "</table>\n",
       "</div>"
      ],
      "text/plain": [
       "           Age  Income Student  Credit_Rating Actual\n",
       "0        youth    high       no          fair     no\n",
       "1        youth    high       no     excellent     no\n",
       "2  middle aged    high       no          fair    yes\n",
       "3       senior  medium       no          fair    yes\n",
       "4       senior     low      yes          fair    yes"
      ]
     },
     "execution_count": 10,
     "metadata": {},
     "output_type": "execute_result"
    }
   ],
   "source": [
    "X = pd.read_csv('Naive_Labelled.csv')\n",
    "X.head()"
   ]
  },
  {
   "cell_type": "code",
   "execution_count": 11,
   "id": "b51ab85c",
   "metadata": {},
   "outputs": [],
   "source": [
    "Y = X.Actual\n",
    "X.drop(columns='Actual',inplace=True)"
   ]
  },
  {
   "cell_type": "code",
   "execution_count": 12,
   "id": "a73fd07a",
   "metadata": {},
   "outputs": [
    {
     "data": {
      "text/html": [
       "<div>\n",
       "<style scoped>\n",
       "    .dataframe tbody tr th:only-of-type {\n",
       "        vertical-align: middle;\n",
       "    }\n",
       "\n",
       "    .dataframe tbody tr th {\n",
       "        vertical-align: top;\n",
       "    }\n",
       "\n",
       "    .dataframe thead th {\n",
       "        text-align: right;\n",
       "    }\n",
       "</style>\n",
       "<table border=\"1\" class=\"dataframe\">\n",
       "  <thead>\n",
       "    <tr style=\"text-align: right;\">\n",
       "      <th></th>\n",
       "      <th>Age</th>\n",
       "      <th>Income</th>\n",
       "      <th>Student</th>\n",
       "      <th>Credit_Rating</th>\n",
       "    </tr>\n",
       "  </thead>\n",
       "  <tbody>\n",
       "    <tr>\n",
       "      <th>0</th>\n",
       "      <td>youth</td>\n",
       "      <td>medium</td>\n",
       "      <td>yes</td>\n",
       "      <td>fair</td>\n",
       "    </tr>\n",
       "  </tbody>\n",
       "</table>\n",
       "</div>"
      ],
      "text/plain": [
       "     Age  Income Student  Credit_Rating\n",
       "0  youth  medium      yes          fair"
      ]
     },
     "execution_count": 12,
     "metadata": {},
     "output_type": "execute_result"
    }
   ],
   "source": [
    "Test_df = pd.read_csv('Naive_Labelled_Query.csv')\n",
    "Test_df"
   ]
  },
  {
   "cell_type": "code",
   "execution_count": 13,
   "id": "bf4e2776",
   "metadata": {},
   "outputs": [],
   "source": [
    "class NaiveBayesLabelled():\n",
    "    def fit(self,X: pd.DataFrame,Y: pd.Series):\n",
    "        self.X = X\n",
    "        self.Y = Y\n",
    "        \n",
    "    def predict(self,Test: pd.DataFrame):\n",
    "        self.Test = Test\n",
    "        self.setclassdict()\n",
    "        self.final_class = []\n",
    "        for k in range(len(self.Test)):\n",
    "            prob_given_dp = {}\n",
    "            for key in self.class_dict.keys():\n",
    "                prob_given_dp[key] = self.prob_dp_given_class(self.Test.iloc[k],key)*self.class_prob_dict[key]\n",
    "            \n",
    "            print(prob_given_dp) \n",
    "            self.final_class.append(max(prob_given_dp,key=prob_given_dp.get))\n",
    "        \n",
    "        Test['Class'] = self.final_class\n",
    "        return Test\n",
    "        \n",
    "    def prob_dp_given_class(self,Test_i: pd.Series,key: str):\n",
    "        self.prob_given_class = {}\n",
    "        prob = 1\n",
    "        for j in range(len(Test_i)):\n",
    "            prob*= (self.findCount(Test_i.iloc[j],j,key)/self.class_dict[key])\n",
    "        \n",
    "        return prob\n",
    "        \n",
    "    def findCount(self,param: str,colNum: int,key: str)-> int:\n",
    "        count = 0\n",
    "        for i in range(len(self.X)):\n",
    "            if self.X.iloc[i][colNum] == param and self.Y.iloc[i]==key:\n",
    "                count+=1\n",
    "        \n",
    "        return count\n",
    "    \n",
    "    def setclassdict(self):\n",
    "        self.class_dict = {}\n",
    "        self.class_prob_dict = {}\n",
    "        for _class in self.Y:\n",
    "            self.class_dict[_class] = self.class_dict.get(_class,0)+1\n",
    "        \n",
    "        for key,value in self.class_dict.items():\n",
    "            self.class_prob_dict[key] = value/len(self.Y)\n"
   ]
  },
  {
   "cell_type": "code",
   "execution_count": 14,
   "id": "b01dd5af",
   "metadata": {},
   "outputs": [],
   "source": [
    "model = NaiveBayesLabelled()\n",
    "model.fit(X,Y)"
   ]
  },
  {
   "cell_type": "code",
   "execution_count": 15,
   "id": "cc819ba8",
   "metadata": {},
   "outputs": [
    {
     "name": "stdout",
     "output_type": "stream",
     "text": [
      "{'no': 0.006857142857142858, 'yes': 0.028218694885361547}\n"
     ]
    },
    {
     "data": {
      "text/html": [
       "<div>\n",
       "<style scoped>\n",
       "    .dataframe tbody tr th:only-of-type {\n",
       "        vertical-align: middle;\n",
       "    }\n",
       "\n",
       "    .dataframe tbody tr th {\n",
       "        vertical-align: top;\n",
       "    }\n",
       "\n",
       "    .dataframe thead th {\n",
       "        text-align: right;\n",
       "    }\n",
       "</style>\n",
       "<table border=\"1\" class=\"dataframe\">\n",
       "  <thead>\n",
       "    <tr style=\"text-align: right;\">\n",
       "      <th></th>\n",
       "      <th>Age</th>\n",
       "      <th>Income</th>\n",
       "      <th>Student</th>\n",
       "      <th>Credit_Rating</th>\n",
       "      <th>Class</th>\n",
       "    </tr>\n",
       "  </thead>\n",
       "  <tbody>\n",
       "    <tr>\n",
       "      <th>0</th>\n",
       "      <td>youth</td>\n",
       "      <td>medium</td>\n",
       "      <td>yes</td>\n",
       "      <td>fair</td>\n",
       "      <td>yes</td>\n",
       "    </tr>\n",
       "  </tbody>\n",
       "</table>\n",
       "</div>"
      ],
      "text/plain": [
       "     Age  Income Student  Credit_Rating Class\n",
       "0  youth  medium      yes          fair   yes"
      ]
     },
     "execution_count": 15,
     "metadata": {},
     "output_type": "execute_result"
    }
   ],
   "source": [
    "model.predict(Test_df)"
   ]
  }
 ],
 "metadata": {
  "kernelspec": {
   "display_name": "Python 3 (ipykernel)",
   "language": "python",
   "name": "python3"
  },
  "language_info": {
   "codemirror_mode": {
    "name": "ipython",
    "version": 3
   },
   "file_extension": ".py",
   "mimetype": "text/x-python",
   "name": "python",
   "nbconvert_exporter": "python",
   "pygments_lexer": "ipython3",
   "version": "3.11.3"
  }
 },
 "nbformat": 4,
 "nbformat_minor": 5
}
